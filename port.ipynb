{
 "cells": [
  {
   "cell_type": "code",
   "execution_count": 87,
   "id": "53f2a85a",
   "metadata": {},
   "outputs": [],
   "source": [
    "import yfinance as yf\n",
    "import deta as DB"
   ]
  },
  {
   "cell_type": "code",
   "execution_count": 84,
   "id": "78e1bd7e",
   "metadata": {},
   "outputs": [],
   "source": [
    "cash = 100000"
   ]
  },
  {
   "cell_type": "code",
   "execution_count": 89,
   "id": "7b85b9fd",
   "metadata": {},
   "outputs": [
    {
     "ename": "NameError",
     "evalue": "name 'deta' is not defined",
     "output_type": "error",
     "traceback": [
      "\u001b[1;31m---------------------------------------------------------------------------\u001b[0m",
      "\u001b[1;31mNameError\u001b[0m                                 Traceback (most recent call last)",
      "\u001b[1;32m~\\AppData\\Local\\Temp/ipykernel_9000/1341403342.py\u001b[0m in \u001b[0;36m<module>\u001b[1;34m\u001b[0m\n\u001b[1;32m----> 1\u001b[1;33m \u001b[0mdbp\u001b[0m \u001b[1;33m=\u001b[0m \u001b[0mdeta\u001b[0m\u001b[1;33m.\u001b[0m\u001b[0mBase\u001b[0m\u001b[1;33m(\u001b[0m\u001b[1;34m'StockyAI_portfolio'\u001b[0m\u001b[1;33m)\u001b[0m\u001b[1;33m\u001b[0m\u001b[1;33m\u001b[0m\u001b[0m\n\u001b[0m",
      "\u001b[1;31mNameError\u001b[0m: name 'deta' is not defined"
     ]
    }
   ],
   "source": [
    "\n"
   ]
  },
  {
   "cell_type": "code",
   "execution_count": 69,
   "id": "877affaf",
   "metadata": {},
   "outputs": [],
   "source": [
    "def Buy (ticker):\n",
    "    global cash\n",
    "    ticker = yf.Ticker(ticker)\n",
    "    price = ticker.info\n",
    "    if (price['regularMarketPrice']) == None :\n",
    "        pre_day_price=ticker.history(period='1d')\n",
    "        print(ticker,\"Price - \",pre_day_price.iloc[0,3])\n",
    "        c_price =pre_day_price.iloc[0,3]\n",
    "        quant= int(input('Quantity'))\n",
    "        amt = c_price*quant\n",
    "        if cash >= amt:\n",
    "            cash=cash-amt\n",
    "            print('stocks brought')\n",
    "            print('available balance - ',cash)\n",
    "        else:\n",
    "            print('INSUFICENT BALANCE')\n",
    "        \n",
    "    else:\n",
    "        print(\"Price - \",price['regularMarketPrice'])\n",
    "        c_price =price['regularMarketPrice']\n",
    "        quant= int(input('Quantity'))\n",
    "        amt = c_price*quant\n",
    "        if cash >= amt:\n",
    "            cash=cash-amt\n",
    "            print('stocks brought')\n",
    "            print('available balance - ',cash)\n",
    "        else:\n",
    "            print('INSUFICENT BALANCE')"
   ]
  },
  {
   "cell_type": "code",
   "execution_count": 72,
   "id": "a5e3e08e",
   "metadata": {},
   "outputs": [],
   "source": [
    "def Sell (ticker):\n",
    "    global cash\n",
    "    ticker = yf.Ticker(ticker)\n",
    "    price = ticker.info\n",
    "    if (price['regularMarketPrice']) == None :\n",
    "        pre_day_price=ticker.history(period='1d')\n",
    "        print(ticker,\"Price - \",pre_day_price.iloc[0,3])\n",
    "        c_price =pre_day_price.iloc[0,3]\n",
    "        quant= int(input('Quantity'))\n",
    "        amt = c_price*quant\n",
    "        if cash >= 0:\n",
    "            cash=cash+amt\n",
    "            print('stocks Sold')\n",
    "            print('available balance - ',cash)\n",
    "        else:\n",
    "            print('INSUFICENT BALANCE')\n",
    "        \n",
    "    else:\n",
    "        print(\"Price - \",price['regularMarketPrice'])\n",
    "        c_price =price['regularMarketPrice']\n",
    "        quant= int(input('Quantity'))\n",
    "        amt = c_price*quant\n",
    "        if cash >= 0:\n",
    "            cash=cash+amt\n",
    "            print('stocks Sold')\n",
    "            print('available balance - ',cash)\n",
    "        else:\n",
    "            print('INSUFICENT BALANCE')"
   ]
  },
  {
   "cell_type": "code",
   "execution_count": 73,
   "id": "bdc5de55",
   "metadata": {},
   "outputs": [
    {
     "name": "stdout",
     "output_type": "stream",
     "text": [
      "yfinance.Ticker object <TATAMOTORS.NS> Price -  378.3500061035156\n",
      "Quantity100\n",
      "stocks Sold\n",
      "available balance -  100000.0\n"
     ]
    }
   ],
   "source": [
    "Sell('TATAMOTORS.NS')"
   ]
  },
  {
   "cell_type": "code",
   "execution_count": 74,
   "id": "9e70ffc6",
   "metadata": {},
   "outputs": [
    {
     "data": {
      "text/plain": [
       "100000.0"
      ]
     },
     "execution_count": 74,
     "metadata": {},
     "output_type": "execute_result"
    }
   ],
   "source": [
    "cash"
   ]
  },
  {
   "cell_type": "code",
   "execution_count": null,
   "id": "9627e19b",
   "metadata": {},
   "outputs": [],
   "source": []
  }
 ],
 "metadata": {
  "kernelspec": {
   "display_name": "Python 3 (ipykernel)",
   "language": "python",
   "name": "python3"
  },
  "language_info": {
   "codemirror_mode": {
    "name": "ipython",
    "version": 3
   },
   "file_extension": ".py",
   "mimetype": "text/x-python",
   "name": "python",
   "nbconvert_exporter": "python",
   "pygments_lexer": "ipython3",
   "version": "3.9.7"
  }
 },
 "nbformat": 4,
 "nbformat_minor": 5
}
