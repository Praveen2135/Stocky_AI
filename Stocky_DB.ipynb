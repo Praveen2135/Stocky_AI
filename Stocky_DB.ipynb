{
 "cells": [
  {
   "cell_type": "code",
   "execution_count": 1,
   "id": "eebfec0b",
   "metadata": {},
   "outputs": [],
   "source": [
    "from deta import Deta\n",
    "import pandas as pd\n",
    "import numpy as np\n",
    "import yfinance as yf\n",
    "import datetime as dt\n",
    "from yahoo_fin.stock_info import *\n",
    "import plotly.graph_objects as go"
   ]
  },
  {
   "cell_type": "code",
   "execution_count": 2,
   "id": "d6e08f6d",
   "metadata": {},
   "outputs": [
    {
     "ename": "IndentationError",
     "evalue": "expected an indented block (Temp/ipykernel_11884/876515894.py, line 34)",
     "output_type": "error",
     "traceback": [
      "\u001b[1;36m  File \u001b[1;32m\"C:\\Users\\praveen\\AppData\\Local\\Temp/ipykernel_11884/876515894.py\"\u001b[1;36m, line \u001b[1;32m34\u001b[0m\n\u001b[1;33m    tickers = DB.get_all_ticker()\u001b[0m\n\u001b[1;37m    ^\u001b[0m\n\u001b[1;31mIndentationError\u001b[0m\u001b[1;31m:\u001b[0m expected an indented block\n"
     ]
    }
   ],
   "source": [
    "class StockyDb:\n",
    "    def __init__(self):\n",
    "        self.deta = Deta('d0p5if1f_GSnmoPk32YPhwKaJzN6sq7hM2DN4XPks')\n",
    "        self.db = self.deta.Base('StockyAI')\n",
    "        \n",
    "    def save_to_DB(self,ticker,df):\n",
    "        date_=[]\n",
    "        open_=[]\n",
    "        high_=[]\n",
    "        low_=[]\n",
    "        close_=[]\n",
    "        for i in range (0,len(df)):\n",
    "            df['Close']=df['Close'].astype(float)\n",
    "            df['Low']=df['Low'].astype(float)\n",
    "            df['High']=df['High'].astype(float)\n",
    "            df['Open']=df['Open'].astype(float)\n",
    "            date_.append(df['Date'][i])\n",
    "            open_.append(df['Open'][i])\n",
    "            high_.append(df['High'][i])\n",
    "            low_.append(df['Low'][i])\n",
    "            close_.append(df['Close'][i])\n",
    "        self.db.put({'key':ticker,'date':date_,'open':open_,'high':high_,'low':low_,'close':close_})\n",
    "    \n",
    "    def ticker_df(self,ticker):\n",
    "        return self.db.get(key=ticker)\n",
    "    \n",
    "    def get_all_ticker(self):\n",
    "        tickers=[]\n",
    "        for i in range(0,self.db.fetch().count):\n",
    "            tickers.append(self.db.fetch().items[i]['key'])\n",
    "        return tickers\n",
    "    \n",
    "    def Recomodation(self):\n",
    "    tickers = DB.get_all_ticker()\n",
    "    buy=[]\n",
    "    sell = []\n",
    "    \n",
    "    for i in tickers:\n",
    "        rec={}\n",
    "        df=pd.DataFrame(DB.ticker_df(i))\n",
    "        H_max=df['high'].max()\n",
    "        L_min=df['low'].min()\n",
    "        H_date=(df[df['high']==H_max])['date'].to_list()\n",
    "        L_date=(df[df['low']==L_min])['date'].to_list()\n",
    "        if H_date>L_date:\n",
    "            price={}\n",
    "            price['Ticker']=i\n",
    "            price['L_buy_price']=L_min\n",
    "            price['H_buy_price']=L_min+(L_min*0.01)\n",
    "            price['H_sell_price']=H_max\n",
    "            price['L_sell_price']=H_max-(H_max*0.01)\n",
    "            price['profit% ']=((price['L_sell_price']-price['H_buy_price'])/price['H_buy_price'])*100\n",
    "            buy.append(price)\n",
    "        elif H_date<L_date:\n",
    "            price={}\n",
    "            price['Ticker']=i\n",
    "            price['H_sell_price']=H_max\n",
    "            price['L_sell_price']=H_max-(H_max*0.01)\n",
    "            price['L_buy_price']=L_min\n",
    "            price['H_buy_price']=L_min+(L_min*0.01)\n",
    "            price['profit% ']=((price['L_sell_price']-price['H_buy_price'])/price['H_buy_price'])*100\n",
    "            sell.append(price)\n",
    "    \n",
    "    buy_df=pd.DataFrame()\n",
    "    for i in range (0,len(buy)):\n",
    "        buy_df=buy_df.append([buy[i]],ignore_index=True)\n",
    "    sell_df=pd.DataFrame()\n",
    "    for j in range (0,len(sell)):\n",
    "        sell_df=sell_df.append([sell[j]],ignore_index=True)\n",
    "    return buy_df,sell_df"
   ]
  },
  {
   "cell_type": "code",
   "execution_count": 161,
   "id": "6bb708e0",
   "metadata": {},
   "outputs": [],
   "source": [
    "dbp = deta.Base('StockyAI_portfolio')"
   ]
  },
  {
   "cell_type": "code",
   "execution_count": 2,
   "id": "2cd0337a",
   "metadata": {},
   "outputs": [],
   "source": [
    "class Portfolio():\n",
    "    def __init__(self):\n",
    "        self.dbp = deta.Base('StockyAI_portfolio')\n",
    "        self.p_data = self.dbp.get(key='praveen')\n",
    "        self.cash = self.p_data['cash']\n",
    "        self.stocks = self.p_data['stocks']\n",
    "        #self.S_df = pd.DataFrame(columns=['stock','buy_price','quantity'])\n",
    "        #self.S_df=self.S_df.append(self.stocks,ignore_index=True)\n",
    "        print(self.stocks)\n",
    "        \n",
    "    def Buy (self,ticker):\n",
    "        tik= ticker\n",
    "        ticker = yf.Ticker(ticker)\n",
    "        price = ticker.info\n",
    "        if (price['regularMarketPrice']) == None :\n",
    "            pre_day_price=ticker.history(period='1d')\n",
    "            print(ticker,\"Price - \",pre_day_price.iloc[0,3])\n",
    "            c_price =pre_day_price.iloc[0,3]\n",
    "            quant= int(input('Quantity'))\n",
    "            amt = c_price*quant\n",
    "            if self.cash >= amt:\n",
    "                self.cash=self.cash-amt\n",
    "                S_detail={}\n",
    "                S_detail['buy_price']=c_price\n",
    "                S_detail['quantity'] = quant\n",
    "                self.stocks[tik]=S_detail\n",
    "                #return self.stocks\n",
    "                self.dbp.put({'key':'praveen','cash':self.cash,'stocks':self.stocks})\n",
    "                \n",
    "            else:\n",
    "                print('INSUFICENT BALANCE')\n",
    "\n",
    "        else:\n",
    "            print(\"Price - \",price['regularMarketPrice'])\n",
    "            c_price =price['regularMarketPrice']\n",
    "            quant= int(input('Quantity'))\n",
    "            amt = c_price*quant\n",
    "            if self.cash >= amt:\n",
    "                self.cash=self.cash-amt\n",
    "                print('stocks brought')\n",
    "                print('available balance - ',cash)\n",
    "            else:\n",
    "                print('INSUFICENT BALANCE')\n",
    "\n",
    "    def Sell (self,ticker):\n",
    "        tik=ticker\n",
    "        ticker = yf.Ticker(ticker)\n",
    "        price = ticker.info\n",
    "        if (price['regularMarketPrice']) == None :\n",
    "            pre_day_price=ticker.history(period='1d')\n",
    "            print(ticker,\"Price - \",pre_day_price.iloc[0,3])\n",
    "            c_price =pre_day_price.iloc[0,3]\n",
    "            quant= int(input('Quantity'))\n",
    "            amt = c_price*quant\n",
    "            if self.stocks[tik]['quantity']>= quant :\n",
    "                self.cash=self.cash+amt\n",
    "                r_quant = self.stocks[tik]['quantity']-quant\n",
    "                S_details=(self.stocks[tik])\n",
    "                S_details['quantity']=r_quant\n",
    "                self.stocks[tik]=S_details\n",
    "                #print(self.stocks[tik])\n",
    "                #return self.stocks\n",
    "                self.dbp.put({'key':'praveen','cash':self.cash,'stocks':self.stocks})\n",
    "                \n",
    "                \n",
    "            else:\n",
    "                print('INSUFICENT BALANCE')\n",
    "\n",
    "        else:\n",
    "            print(\"Price - \",price['regularMarketPrice'])\n",
    "            c_price =price['regularMarketPrice']\n",
    "            quant= int(input('Quantity'))\n",
    "            amt = c_price*quant\n",
    "            if cash >= 0:\n",
    "                cash=cash+amt\n",
    "                print('stocks Sold')\n",
    "                print('available balance - ',cash)\n",
    "            else:\n",
    "                print('INSUFICENT BALANCE')\n",
    "        \n",
    "    def get_holdings(self):\n",
    "        #print(self.p_data['stocks'])\n",
    "        hold_df = pd.DataFrame(self.p_data['stocks'])\n",
    "        hold_df=hold_df.transpose()\n",
    "        hold_df=hold_df.reset_index()\n",
    "        hold_df['index']=hold_df['index'].astype('str')\n",
    "        tiks=hold_df['index'].to_list()\n",
    "        #tickers=yf.Tickers(tiks)\n",
    "        prices=[]\n",
    "        \n",
    "        for i in (tiks):\n",
    "            #i = tickers.tickers[i]\n",
    "            pr = get_live_price(i)\n",
    "            #pr = pr['regularMarketPrice']\n",
    "            prices.append(pr)\n",
    "            \n",
    "        #hold_df['current price']=hold_df['index'].apply(self.get_current_price)\n",
    "        hold_df['current price']=prices\n",
    "        return hold_df\n",
    "    \n",
    "    def get_current_price(self,ticker):\n",
    "        ticker=yf.Ticker(ticker)\n",
    "        info=ticker.info\n",
    "        return info['regularMarketPrice']"
   ]
  },
  {
   "cell_type": "code",
   "execution_count": 3,
   "id": "2d07bd0b",
   "metadata": {},
   "outputs": [],
   "source": [
    "deta = Deta('d0p5if1f_GSnmoPk32YPhwKaJzN6sq7hM2DN4XPks')\n",
    "dbh = deta.Base('StockyAI_home')"
   ]
  },
  {
   "cell_type": "code",
   "execution_count": 50,
   "id": "b3384ff8",
   "metadata": {},
   "outputs": [],
   "source": [
    "def get_T_tickers():\n",
    "        T_T=dbh.get(key='trained_T')\n",
    "        T_T = T_T['price']\n",
    "        #T_T = set(T_T)\n",
    "        return T_T"
   ]
  },
  {
   "cell_type": "code",
   "execution_count": 51,
   "id": "b5401f0e",
   "metadata": {},
   "outputs": [],
   "source": [
    "def trained_tickers(ticker):\n",
    "    T_list=[]\n",
    "    T_T=dbh.get(key='trained_T')\n",
    "    T_list = T_T['price']\n",
    "    T_list.append(ticker)\n",
    "    T_list=set(T_list)\n",
    "    T_list = list(T_list)\n",
    "    dbh.put({'key':'trained_T','price':T_list})\n"
   ]
  },
  {
   "cell_type": "code",
   "execution_count": 52,
   "id": "3a484dc1",
   "metadata": {},
   "outputs": [],
   "source": [
    "trained_tickers('TATAMOTORS.NS')"
   ]
  },
  {
   "cell_type": "code",
   "execution_count": 53,
   "id": "9ce34bba",
   "metadata": {},
   "outputs": [
    {
     "data": {
      "text/plain": [
       "['APOLLOHOSP.NS',\n",
       " 'BAJAJFINSV.NS',\n",
       " 'BAJAJ-AUTO.NS',\n",
       " 'BHARTIARTL.NS',\n",
       " 'BAJFINANCE.NS',\n",
       " 'INDUSINDBK.NS',\n",
       " 'RELIANCE.NS',\n",
       " 'SBIN.NS',\n",
       " 'ADANIENT.NS',\n",
       " 'TATAMOTORS.NS']"
      ]
     },
     "execution_count": 53,
     "metadata": {},
     "output_type": "execute_result"
    }
   ],
   "source": [
    "get_T_tickers()"
   ]
  },
  {
   "cell_type": "code",
   "execution_count": 1,
   "id": "0c167205",
   "metadata": {},
   "outputs": [
    {
     "name": "stderr",
     "output_type": "stream",
     "text": [
      "2022-12-31 16:23:34.276 INFO    numexpr.utils: NumExpr defaulting to 4 threads.\n"
     ]
    }
   ],
   "source": [
    "import streamlit_lottie as st_l"
   ]
  },
  {
   "cell_type": "code",
   "execution_count": null,
   "id": "76b53cc4",
   "metadata": {},
   "outputs": [],
   "source": [
    "st_l.st_lottie()"
   ]
  },
  {
   "cell_type": "code",
   "execution_count": null,
   "id": "cf20f62c",
   "metadata": {},
   "outputs": [],
   "source": []
  }
 ],
 "metadata": {
  "kernelspec": {
   "display_name": "Python 3 (ipykernel)",
   "language": "python",
   "name": "python3"
  },
  "language_info": {
   "codemirror_mode": {
    "name": "ipython",
    "version": 3
   },
   "file_extension": ".py",
   "mimetype": "text/x-python",
   "name": "python",
   "nbconvert_exporter": "python",
   "pygments_lexer": "ipython3",
   "version": "3.9.7"
  },
  "vscode": {
   "interpreter": {
    "hash": "8743faa4f4858d5a40fd41a5149682422031aff00136a0e91fa686edfda7ddc6"
   }
  }
 },
 "nbformat": 4,
 "nbformat_minor": 5
}
