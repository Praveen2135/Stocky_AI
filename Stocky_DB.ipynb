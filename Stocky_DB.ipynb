{
 "cells": [
  {
   "cell_type": "code",
   "execution_count": 419,
   "id": "eebfec0b",
   "metadata": {},
   "outputs": [],
   "source": [
    "from deta import Deta\n",
    "import pandas as pd\n",
    "import numpy as np\n",
    "import yfinance as yf\n",
    "import datetime as dt"
   ]
  },
  {
   "cell_type": "code",
   "execution_count": 13,
   "id": "d6e08f6d",
   "metadata": {},
   "outputs": [],
   "source": [
    "class StockyDb:\n",
    "    def __init__(self):\n",
    "        self.deta = Deta('d0p5if1f_GSnmoPk32YPhwKaJzN6sq7hM2DN4XPks')\n",
    "        self.db = self.deta.Base('StockyAI')\n",
    "        \n",
    "    def save_to_DB(self,ticker,df):\n",
    "        date_=[]\n",
    "        open_=[]\n",
    "        high_=[]\n",
    "        low_=[]\n",
    "        close_=[]\n",
    "        for i in range (0,len(df)):\n",
    "            df['Close']=df['Close'].astype(float)\n",
    "            df['Low']=df['Low'].astype(float)\n",
    "            df['High']=df['High'].astype(float)\n",
    "            df['Open']=df['Open'].astype(float)\n",
    "            date_.append(df['Date'][i])\n",
    "            open_.append(df['Open'][i])\n",
    "            high_.append(df['High'][i])\n",
    "            low_.append(df['Low'][i])\n",
    "            close_.append(df['Close'][i])\n",
    "        self.db.put({'key':ticker,'date':date_,'open':open_,'high':high_,'low':low_,'close':close_})\n",
    "    \n",
    "    def ticker_df(self,ticker):\n",
    "        return self.db.get(key=ticker)\n",
    "    \n",
    "    def get_all_ticker(self):\n",
    "        tickers=[]\n",
    "        for i in range(0,self.db.fetch().count):\n",
    "            tickers.append(self.db.fetch().items[i]['key'])\n",
    "        return tickers\n",
    "    \n",
    "    def Recomodation(self):\n",
    "    tickers = DB.get_all_ticker()\n",
    "    buy=[]\n",
    "    sell = []\n",
    "    \n",
    "    for i in tickers:\n",
    "        rec={}\n",
    "        df=pd.DataFrame(DB.ticker_df(i))\n",
    "        H_max=df['high'].max()\n",
    "        L_min=df['low'].min()\n",
    "        H_date=(df[df['high']==H_max])['date'].to_list()\n",
    "        L_date=(df[df['low']==L_min])['date'].to_list()\n",
    "        if H_date>L_date:\n",
    "            price={}\n",
    "            price['Ticker']=i\n",
    "            price['L_buy_price']=L_min\n",
    "            price['H_buy_price']=L_min+(L_min*0.01)\n",
    "            price['H_sell_price']=H_max\n",
    "            price['L_sell_price']=H_max-(H_max*0.01)\n",
    "            price['profit% ']=((price['L_sell_price']-price['H_buy_price'])/price['H_buy_price'])*100\n",
    "            buy.append(price)\n",
    "        elif H_date<L_date:\n",
    "            price={}\n",
    "            price['Ticker']=i\n",
    "            price['H_sell_price']=H_max\n",
    "            price['L_sell_price']=H_max-(H_max*0.01)\n",
    "            price['L_buy_price']=L_min\n",
    "            price['H_buy_price']=L_min+(L_min*0.01)\n",
    "            price['profit% ']=((price['L_sell_price']-price['H_buy_price'])/price['H_buy_price'])*100\n",
    "            sell.append(price)\n",
    "    \n",
    "    buy_df=pd.DataFrame()\n",
    "    for i in range (0,len(buy)):\n",
    "        buy_df=buy_df.append([buy[i]],ignore_index=True)\n",
    "    sell_df=pd.DataFrame()\n",
    "    for j in range (0,len(sell)):\n",
    "        sell_df=sell_df.append([sell[j]],ignore_index=True)\n",
    "    return buy_df,sell_df"
   ]
  },
  {
   "cell_type": "code",
   "execution_count": 161,
   "id": "6bb708e0",
   "metadata": {},
   "outputs": [],
   "source": [
    "dbp = deta.Base('StockyAI_portfolio')"
   ]
  },
  {
   "cell_type": "code",
   "execution_count": 392,
   "id": "2cd0337a",
   "metadata": {},
   "outputs": [],
   "source": [
    "class Portfolio():\n",
    "    def __init__(self):\n",
    "        self.dbp = deta.Base('StockyAI_portfolio')\n",
    "        self.p_data = self.dbp.get(key='praveen')\n",
    "        self.cash = self.p_data['cash']\n",
    "        self.stocks = self.p_data['stocks']\n",
    "        #self.S_df = pd.DataFrame(columns=['stock','buy_price','quantity'])\n",
    "        #self.S_df=self.S_df.append(self.stocks,ignore_index=True)\n",
    "        print(self.stocks)\n",
    "        \n",
    "    def Buy (self,ticker):\n",
    "        tik= ticker\n",
    "        ticker = yf.Ticker(ticker)\n",
    "        price = ticker.info\n",
    "        if (price['regularMarketPrice']) == None :\n",
    "            pre_day_price=ticker.history(period='1d')\n",
    "            print(ticker,\"Price - \",pre_day_price.iloc[0,3])\n",
    "            c_price =pre_day_price.iloc[0,3]\n",
    "            quant= int(input('Quantity'))\n",
    "            amt = c_price*quant\n",
    "            if self.cash >= amt:\n",
    "                self.cash=self.cash-amt\n",
    "                S_detail={}\n",
    "                S_detail['buy_price']=c_price\n",
    "                S_detail['quantity'] = quant\n",
    "                self.stocks[tik]=S_detail\n",
    "                #return self.stocks\n",
    "                self.dbp.put({'key':'praveen','cash':self.cash,'stocks':self.stocks})\n",
    "                \n",
    "            else:\n",
    "                print('INSUFICENT BALANCE')\n",
    "\n",
    "        else:\n",
    "            print(\"Price - \",price['regularMarketPrice'])\n",
    "            c_price =price['regularMarketPrice']\n",
    "            quant= int(input('Quantity'))\n",
    "            amt = c_price*quant\n",
    "            if self.cash >= amt:\n",
    "                self.cash=self.cash-amt\n",
    "                print('stocks brought')\n",
    "                print('available balance - ',cash)\n",
    "            else:\n",
    "                print('INSUFICENT BALANCE')\n",
    "\n",
    "    def Sell (self,ticker):\n",
    "        tik=ticker\n",
    "        ticker = yf.Ticker(ticker)\n",
    "        price = ticker.info\n",
    "        if (price['regularMarketPrice']) == None :\n",
    "            pre_day_price=ticker.history(period='1d')\n",
    "            print(ticker,\"Price - \",pre_day_price.iloc[0,3])\n",
    "            c_price =pre_day_price.iloc[0,3]\n",
    "            quant= int(input('Quantity'))\n",
    "            amt = c_price*quant\n",
    "            if self.stocks[tik]['quantity']>= quant :\n",
    "                self.cash=self.cash+amt\n",
    "                r_quant = self.stocks[tik]['quantity']-quant\n",
    "                S_details=(self.stocks[tik])\n",
    "                S_details['quantity']=r_quant\n",
    "                self.stocks[tik]=S_details\n",
    "                #print(self.stocks[tik])\n",
    "                #return self.stocks\n",
    "                self.dbp.put({'key':'praveen','cash':self.cash,'stocks':self.stocks})\n",
    "                \n",
    "                \n",
    "            else:\n",
    "                print('INSUFICENT BALANCE')\n",
    "\n",
    "        else:\n",
    "            print(\"Price - \",price['regularMarketPrice'])\n",
    "            c_price =price['regularMarketPrice']\n",
    "            quant= int(input('Quantity'))\n",
    "            amt = c_price*quant\n",
    "            if cash >= 0:\n",
    "                cash=cash+amt\n",
    "                print('stocks Sold')\n",
    "                print('available balance - ',cash)\n",
    "            else:\n",
    "                print('INSUFICENT BALANCE')\n",
    "        \n",
    "    def get_holdings(self):\n",
    "        #print(self.p_data['stocks'])\n",
    "        hold_df = pd.DataFrame(self.p_data['stocks'])\n",
    "        hold_df=hold_df.transpose()\n",
    "        hold_df=hold_df.reset_index()\n",
    "        hold_df['index']=hold_df['index'].astype('str')\n",
    "        tiks=hold_df['index'].to_list()\n",
    "        #tickers=yf.Tickers(tiks)\n",
    "        prices=[]\n",
    "        \n",
    "        for i in (tiks):\n",
    "            #i = tickers.tickers[i]\n",
    "            pr = get_live_price(i)\n",
    "            #pr = pr['regularMarketPrice']\n",
    "            prices.append(pr)\n",
    "            \n",
    "        #hold_df['current price']=hold_df['index'].apply(self.get_current_price)\n",
    "        hold_df['current price']=prices\n",
    "        return hold_df\n",
    "    \n",
    "    def get_current_price(self,ticker):\n",
    "        ticker=yf.Ticker(ticker)\n",
    "        info=ticker.info\n",
    "        return info['regularMarketPrice']"
   ]
  },
  {
   "cell_type": "code",
   "execution_count": 393,
   "id": "eb2e5ec4",
   "metadata": {},
   "outputs": [
    {
     "name": "stdout",
     "output_type": "stream",
     "text": [
      "{'INDUSINDBK.NS': {'buy_price': 1147.8499755859375, 'quantity': 10}, 'RELIANCE.NS': {'buy_price': 2502.199951171875, 'quantity': 0}, 'SBIN.NS': {'buy_price': 574, 'quantity': 90}}\n"
     ]
    }
   ],
   "source": [
    "prot = Portfolio()"
   ]
  },
  {
   "cell_type": "code",
   "execution_count": 394,
   "id": "d055bd42",
   "metadata": {},
   "outputs": [],
   "source": [
    "holding=prot.get_holdings()"
   ]
  },
  {
   "cell_type": "code",
   "execution_count": 395,
   "id": "773c62e0",
   "metadata": {},
   "outputs": [
    {
     "data": {
      "text/html": [
       "<div>\n",
       "<style scoped>\n",
       "    .dataframe tbody tr th:only-of-type {\n",
       "        vertical-align: middle;\n",
       "    }\n",
       "\n",
       "    .dataframe tbody tr th {\n",
       "        vertical-align: top;\n",
       "    }\n",
       "\n",
       "    .dataframe thead th {\n",
       "        text-align: right;\n",
       "    }\n",
       "</style>\n",
       "<table border=\"1\" class=\"dataframe\">\n",
       "  <thead>\n",
       "    <tr style=\"text-align: right;\">\n",
       "      <th></th>\n",
       "      <th>index</th>\n",
       "      <th>buy_price</th>\n",
       "      <th>quantity</th>\n",
       "      <th>current price</th>\n",
       "    </tr>\n",
       "  </thead>\n",
       "  <tbody>\n",
       "    <tr>\n",
       "      <th>0</th>\n",
       "      <td>INDUSINDBK.NS</td>\n",
       "      <td>1147.849976</td>\n",
       "      <td>10.0</td>\n",
       "      <td>1147.849976</td>\n",
       "    </tr>\n",
       "    <tr>\n",
       "      <th>1</th>\n",
       "      <td>RELIANCE.NS</td>\n",
       "      <td>2502.199951</td>\n",
       "      <td>0.0</td>\n",
       "      <td>2502.199951</td>\n",
       "    </tr>\n",
       "    <tr>\n",
       "      <th>2</th>\n",
       "      <td>SBIN.NS</td>\n",
       "      <td>574.000000</td>\n",
       "      <td>90.0</td>\n",
       "      <td>574.000000</td>\n",
       "    </tr>\n",
       "  </tbody>\n",
       "</table>\n",
       "</div>"
      ],
      "text/plain": [
       "           index    buy_price  quantity  current price\n",
       "0  INDUSINDBK.NS  1147.849976      10.0    1147.849976\n",
       "1    RELIANCE.NS  2502.199951       0.0    2502.199951\n",
       "2        SBIN.NS   574.000000      90.0     574.000000"
      ]
     },
     "execution_count": 395,
     "metadata": {},
     "output_type": "execute_result"
    }
   ],
   "source": [
    "holding"
   ]
  },
  {
   "cell_type": "code",
   "execution_count": 274,
   "id": "14226ef6",
   "metadata": {},
   "outputs": [],
   "source": [
    "def get_current_price(ticker):\n",
    "    ticker=yf.Ticker(ticker)\n",
    "    info=ticker.info\n",
    "    return info['regularMarketPrice']"
   ]
  },
  {
   "cell_type": "code",
   "execution_count": 275,
   "id": "f65c67fd",
   "metadata": {},
   "outputs": [],
   "source": [
    "get_current_price('INDUSINDBK.NS')"
   ]
  },
  {
   "cell_type": "code",
   "execution_count": 389,
   "id": "4db98ecc",
   "metadata": {},
   "outputs": [],
   "source": [
    "from yahoo_fin.stock_info import *"
   ]
  },
  {
   "cell_type": "code",
   "execution_count": 402,
   "id": "d79b70f5",
   "metadata": {},
   "outputs": [
    {
     "name": "stdout",
     "output_type": "stream",
     "text": [
      "3642.199951171875\n"
     ]
    }
   ],
   "source": [
    "print(get_live_price('ADANIENT.NS'))"
   ]
  },
  {
   "cell_type": "code",
   "execution_count": 399,
   "id": "a0ad3e7a",
   "metadata": {},
   "outputs": [],
   "source": [
    "N50_list=tickers_nifty50()"
   ]
  },
  {
   "cell_type": "code",
   "execution_count": 414,
   "id": "66a30ca9",
   "metadata": {},
   "outputs": [
    {
     "name": "stdout",
     "output_type": "stream",
     "text": [
      "ADANIENT.NS\n",
      "APOLLOHOSP.NS\n",
      "BAJAJ-AUTO.NS\n",
      "BAJAJFINSV.NS\n",
      "BAJFINANCE.NS\n",
      "BHARTIARTL.NS\n",
      "BRITANNIA.NS\n",
      "CIPLA.NS\n",
      "COALINDIA.NS\n",
      "HDFCLIFE.NS\n",
      "HEROMOTOCO.NS\n",
      "HINDALCO.NS\n",
      "ICICIBANK.NS\n",
      "INDUSINDBK.NS\n",
      "ITC.NS\n",
      "KOTAKBANK.NS\n",
      "LT.NS\n",
      "MARUTI.NS\n",
      "MM.NS\n",
      "NESTLEIND.NS\n",
      "NTPC.NS\n",
      "ONGC.NS\n",
      "RELIANCE.NS\n",
      "TATACONSUM.NS\n",
      "TATASTEEL.NS\n",
      "TCS.NS\n",
      "TECHM.NS\n",
      "TITAN.NS\n",
      "ULTRACEMCO.NS\n",
      "WIPRO.NS\n"
     ]
    }
   ],
   "source": [
    "N50_price = {}\n",
    "for i in (N50_list):\n",
    "    print(i)\n",
    "    if i == 'MM.NS':\n",
    "        N50_price[i]=get_live_price('M&M.NS')\n",
    "    else:\n",
    "        N50_price[i]=get_live_price(i)"
   ]
  },
  {
   "cell_type": "code",
   "execution_count": 415,
   "id": "4ef37ec5",
   "metadata": {
    "scrolled": true
   },
   "outputs": [
    {
     "data": {
      "text/plain": [
       "{'ADANIENT.NS': 3642.199951171875,\n",
       " 'APOLLOHOSP.NS': 4700.14990234375,\n",
       " 'BAJAJ-AUTO.NS': 3541.800048828125,\n",
       " 'BAJAJFINSV.NS': 1497.050048828125,\n",
       " 'BAJFINANCE.NS': 6374.60009765625,\n",
       " 'BHARTIARTL.NS': 808.6500244140625,\n",
       " 'BRITANNIA.NS': 4331.89990234375,\n",
       " 'CIPLA.NS': 1119.1500244140625,\n",
       " 'COALINDIA.NS': 215.0500030517578,\n",
       " 'HDFCLIFE.NS': 565.4500122070312,\n",
       " 'HEROMOTOCO.NS': 2636.85009765625,\n",
       " 'HINDALCO.NS': 429.54998779296875,\n",
       " 'ICICIBANK.NS': 878.9000244140625,\n",
       " 'INDUSINDBK.NS': 1147.8499755859375,\n",
       " 'ITC.NS': 326.70001220703125,\n",
       " 'KOTAKBANK.NS': 1821.949951171875,\n",
       " 'LT.NS': 2062.75,\n",
       " 'MARUTI.NS': 8141.60009765625,\n",
       " 'MM.NS': 1224.5999755859375,\n",
       " 'NESTLEIND.NS': 20132.75,\n",
       " 'NTPC.NS': 163.0,\n",
       " 'ONGC.NS': 139.8000030517578,\n",
       " 'RELIANCE.NS': 2502.199951171875,\n",
       " 'TATACONSUM.NS': 779.0,\n",
       " 'TATASTEEL.NS': 102.25,\n",
       " 'TCS.NS': 3228.35009765625,\n",
       " 'TECHM.NS': 995.75,\n",
       " 'TITAN.NS': 2483.050048828125,\n",
       " 'ULTRACEMCO.NS': 6909.39990234375,\n",
       " 'WIPRO.NS': 377.6499938964844}"
      ]
     },
     "execution_count": 415,
     "metadata": {},
     "output_type": "execute_result"
    }
   ],
   "source": [
    "N50_price"
   ]
  },
  {
   "cell_type": "code",
   "execution_count": 413,
   "id": "5179e6c1",
   "metadata": {},
   "outputs": [
    {
     "data": {
      "text/html": [
       "<div>\n",
       "<style scoped>\n",
       "    .dataframe tbody tr th:only-of-type {\n",
       "        vertical-align: middle;\n",
       "    }\n",
       "\n",
       "    .dataframe tbody tr th {\n",
       "        vertical-align: top;\n",
       "    }\n",
       "\n",
       "    .dataframe thead th {\n",
       "        text-align: right;\n",
       "    }\n",
       "</style>\n",
       "<table border=\"1\" class=\"dataframe\">\n",
       "  <thead>\n",
       "    <tr style=\"text-align: right;\">\n",
       "      <th></th>\n",
       "      <th>open</th>\n",
       "      <th>high</th>\n",
       "      <th>low</th>\n",
       "      <th>close</th>\n",
       "      <th>adjclose</th>\n",
       "      <th>volume</th>\n",
       "      <th>ticker</th>\n",
       "    </tr>\n",
       "  </thead>\n",
       "  <tbody>\n",
       "    <tr>\n",
       "      <th>2002-08-12</th>\n",
       "      <td>508.100006</td>\n",
       "      <td>512.549988</td>\n",
       "      <td>505.000000</td>\n",
       "      <td>505.149994</td>\n",
       "      <td>413.536560</td>\n",
       "      <td>7100.0</td>\n",
       "      <td>NESTLEIND.NS</td>\n",
       "    </tr>\n",
       "    <tr>\n",
       "      <th>2002-08-13</th>\n",
       "      <td>503.500000</td>\n",
       "      <td>515.000000</td>\n",
       "      <td>503.500000</td>\n",
       "      <td>509.049988</td>\n",
       "      <td>416.729309</td>\n",
       "      <td>8800.0</td>\n",
       "      <td>NESTLEIND.NS</td>\n",
       "    </tr>\n",
       "    <tr>\n",
       "      <th>2002-08-14</th>\n",
       "      <td>502.100006</td>\n",
       "      <td>515.000000</td>\n",
       "      <td>502.100006</td>\n",
       "      <td>514.400024</td>\n",
       "      <td>421.108917</td>\n",
       "      <td>18700.0</td>\n",
       "      <td>NESTLEIND.NS</td>\n",
       "    </tr>\n",
       "    <tr>\n",
       "      <th>2002-08-15</th>\n",
       "      <td>514.400024</td>\n",
       "      <td>514.400024</td>\n",
       "      <td>514.400024</td>\n",
       "      <td>514.400024</td>\n",
       "      <td>421.108917</td>\n",
       "      <td>0.0</td>\n",
       "      <td>NESTLEIND.NS</td>\n",
       "    </tr>\n",
       "    <tr>\n",
       "      <th>2002-08-16</th>\n",
       "      <td>516.000000</td>\n",
       "      <td>516.849976</td>\n",
       "      <td>510.000000</td>\n",
       "      <td>511.000000</td>\n",
       "      <td>418.325592</td>\n",
       "      <td>9400.0</td>\n",
       "      <td>NESTLEIND.NS</td>\n",
       "    </tr>\n",
       "    <tr>\n",
       "      <th>...</th>\n",
       "      <td>...</td>\n",
       "      <td>...</td>\n",
       "      <td>...</td>\n",
       "      <td>...</td>\n",
       "      <td>...</td>\n",
       "      <td>...</td>\n",
       "      <td>...</td>\n",
       "    </tr>\n",
       "    <tr>\n",
       "      <th>2022-12-19</th>\n",
       "      <td>19800.000000</td>\n",
       "      <td>20120.000000</td>\n",
       "      <td>19799.949219</td>\n",
       "      <td>20081.650391</td>\n",
       "      <td>20081.650391</td>\n",
       "      <td>65448.0</td>\n",
       "      <td>NESTLEIND.NS</td>\n",
       "    </tr>\n",
       "    <tr>\n",
       "      <th>2022-12-20</th>\n",
       "      <td>20150.000000</td>\n",
       "      <td>20167.849609</td>\n",
       "      <td>19851.050781</td>\n",
       "      <td>20135.550781</td>\n",
       "      <td>20135.550781</td>\n",
       "      <td>46676.0</td>\n",
       "      <td>NESTLEIND.NS</td>\n",
       "    </tr>\n",
       "    <tr>\n",
       "      <th>2022-12-21</th>\n",
       "      <td>20165.000000</td>\n",
       "      <td>20348.000000</td>\n",
       "      <td>20062.150391</td>\n",
       "      <td>20314.199219</td>\n",
       "      <td>20314.199219</td>\n",
       "      <td>70378.0</td>\n",
       "      <td>NESTLEIND.NS</td>\n",
       "    </tr>\n",
       "    <tr>\n",
       "      <th>2022-12-22</th>\n",
       "      <td>20395.000000</td>\n",
       "      <td>20440.000000</td>\n",
       "      <td>20157.500000</td>\n",
       "      <td>20306.599609</td>\n",
       "      <td>20306.599609</td>\n",
       "      <td>37688.0</td>\n",
       "      <td>NESTLEIND.NS</td>\n",
       "    </tr>\n",
       "    <tr>\n",
       "      <th>2022-12-23</th>\n",
       "      <td>20200.000000</td>\n",
       "      <td>20455.000000</td>\n",
       "      <td>20055.050781</td>\n",
       "      <td>20132.750000</td>\n",
       "      <td>20132.750000</td>\n",
       "      <td>74404.0</td>\n",
       "      <td>NESTLEIND.NS</td>\n",
       "    </tr>\n",
       "  </tbody>\n",
       "</table>\n",
       "<p>5070 rows × 7 columns</p>\n",
       "</div>"
      ],
      "text/plain": [
       "                    open          high           low         close  \\\n",
       "2002-08-12    508.100006    512.549988    505.000000    505.149994   \n",
       "2002-08-13    503.500000    515.000000    503.500000    509.049988   \n",
       "2002-08-14    502.100006    515.000000    502.100006    514.400024   \n",
       "2002-08-15    514.400024    514.400024    514.400024    514.400024   \n",
       "2002-08-16    516.000000    516.849976    510.000000    511.000000   \n",
       "...                  ...           ...           ...           ...   \n",
       "2022-12-19  19800.000000  20120.000000  19799.949219  20081.650391   \n",
       "2022-12-20  20150.000000  20167.849609  19851.050781  20135.550781   \n",
       "2022-12-21  20165.000000  20348.000000  20062.150391  20314.199219   \n",
       "2022-12-22  20395.000000  20440.000000  20157.500000  20306.599609   \n",
       "2022-12-23  20200.000000  20455.000000  20055.050781  20132.750000   \n",
       "\n",
       "                adjclose   volume        ticker  \n",
       "2002-08-12    413.536560   7100.0  NESTLEIND.NS  \n",
       "2002-08-13    416.729309   8800.0  NESTLEIND.NS  \n",
       "2002-08-14    421.108917  18700.0  NESTLEIND.NS  \n",
       "2002-08-15    421.108917      0.0  NESTLEIND.NS  \n",
       "2002-08-16    418.325592   9400.0  NESTLEIND.NS  \n",
       "...                  ...      ...           ...  \n",
       "2022-12-19  20081.650391  65448.0  NESTLEIND.NS  \n",
       "2022-12-20  20135.550781  46676.0  NESTLEIND.NS  \n",
       "2022-12-21  20314.199219  70378.0  NESTLEIND.NS  \n",
       "2022-12-22  20306.599609  37688.0  NESTLEIND.NS  \n",
       "2022-12-23  20132.750000  74404.0  NESTLEIND.NS  \n",
       "\n",
       "[5070 rows x 7 columns]"
      ]
     },
     "execution_count": 413,
     "metadata": {},
     "output_type": "execute_result"
    }
   ],
   "source": []
  },
  {
   "cell_type": "code",
   "execution_count": 412,
   "id": "020826eb",
   "metadata": {},
   "outputs": [
    {
     "ename": "NameError",
     "evalue": "name 'f' is not defined",
     "output_type": "error",
     "traceback": [
      "\u001b[1;31m---------------------------------------------------------------------------\u001b[0m",
      "\u001b[1;31mNameError\u001b[0m                                 Traceback (most recent call last)",
      "\u001b[1;32m~\\AppData\\Local\\Temp/ipykernel_12120/2592724444.py\u001b[0m in \u001b[0;36m<module>\u001b[1;34m\u001b[0m\n\u001b[0;32m      1\u001b[0m \u001b[1;32mfor\u001b[0m \u001b[0mi\u001b[0m \u001b[1;32min\u001b[0m \u001b[0mrange\u001b[0m\u001b[1;33m(\u001b[0m\u001b[1;36m0\u001b[0m\u001b[1;33m,\u001b[0m\u001b[1;36m50\u001b[0m\u001b[1;33m)\u001b[0m\u001b[1;33m:\u001b[0m\u001b[1;33m\u001b[0m\u001b[1;33m\u001b[0m\u001b[0m\n\u001b[1;32m----> 2\u001b[1;33m     \u001b[0mprint\u001b[0m\u001b[1;33m(\u001b[0m\u001b[1;34m'c{}'\u001b[0m\u001b[1;33m,\u001b[0m\u001b[0mf\u001b[0m\u001b[1;33m(\u001b[0m\u001b[0mi\u001b[0m\u001b[1;33m)\u001b[0m\u001b[1;33m)\u001b[0m\u001b[1;33m\u001b[0m\u001b[1;33m\u001b[0m\u001b[0m\n\u001b[0m\u001b[0;32m      3\u001b[0m     \u001b[0mi\u001b[0m\u001b[1;33m=\u001b[0m\u001b[0mi\u001b[0m\u001b[1;33m+\u001b[0m\u001b[1;36m1\u001b[0m\u001b[1;33m\u001b[0m\u001b[1;33m\u001b[0m\u001b[0m\n",
      "\u001b[1;31mNameError\u001b[0m: name 'f' is not defined"
     ]
    }
   ],
   "source": [
    "get_live_price()"
   ]
  },
  {
   "cell_type": "code",
   "execution_count": 416,
   "id": "7a096028",
   "metadata": {},
   "outputs": [],
   "source": [
    "dbh=deta.Base('StockyAI_home')"
   ]
  },
  {
   "cell_type": "code",
   "execution_count": 418,
   "id": "68ee3a63",
   "metadata": {},
   "outputs": [
    {
     "data": {
      "text/plain": [
       "{'key': 'closing price',\n",
       " 'price': {'ADANIENT.NS': 3642.199951171875,\n",
       "  'APOLLOHOSP.NS': 4700.14990234375,\n",
       "  'BAJAJ-AUTO.NS': 3541.800048828125,\n",
       "  'BAJAJFINSV.NS': 1497.050048828125,\n",
       "  'BAJFINANCE.NS': 6374.60009765625,\n",
       "  'BHARTIARTL.NS': 808.6500244140625,\n",
       "  'BRITANNIA.NS': 4331.89990234375,\n",
       "  'CIPLA.NS': 1119.1500244140625,\n",
       "  'COALINDIA.NS': 215.0500030517578,\n",
       "  'HDFCLIFE.NS': 565.4500122070312,\n",
       "  'HEROMOTOCO.NS': 2636.85009765625,\n",
       "  'HINDALCO.NS': 429.54998779296875,\n",
       "  'ICICIBANK.NS': 878.9000244140625,\n",
       "  'INDUSINDBK.NS': 1147.8499755859375,\n",
       "  'ITC.NS': 326.70001220703125,\n",
       "  'KOTAKBANK.NS': 1821.949951171875,\n",
       "  'LT.NS': 2062.75,\n",
       "  'MARUTI.NS': 8141.60009765625,\n",
       "  'MM.NS': 1224.5999755859375,\n",
       "  'NESTLEIND.NS': 20132.75,\n",
       "  'NTPC.NS': 163,\n",
       "  'ONGC.NS': 139.8000030517578,\n",
       "  'RELIANCE.NS': 2502.199951171875,\n",
       "  'TATACONSUM.NS': 779,\n",
       "  'TATASTEEL.NS': 102.25,\n",
       "  'TCS.NS': 3228.35009765625,\n",
       "  'TECHM.NS': 995.75,\n",
       "  'TITAN.NS': 2483.050048828125,\n",
       "  'ULTRACEMCO.NS': 6909.39990234375,\n",
       "  'WIPRO.NS': 377.6499938964844}}"
      ]
     },
     "execution_count": 418,
     "metadata": {},
     "output_type": "execute_result"
    }
   ],
   "source": [
    "dbh.put({'key':'closing price','price':N50_price})"
   ]
  },
  {
   "cell_type": "code",
   "execution_count": 443,
   "id": "242f3041",
   "metadata": {},
   "outputs": [],
   "source": [
    "now=dt.datetime.now()"
   ]
  },
  {
   "cell_type": "code",
   "execution_count": 444,
   "id": "b1ac4ff6",
   "metadata": {},
   "outputs": [
    {
     "data": {
      "text/plain": [
       "'23:11'"
      ]
     },
     "execution_count": 444,
     "metadata": {},
     "output_type": "execute_result"
    }
   ],
   "source": [
    "now.strftime(\"%H:%M\")"
   ]
  },
  {
   "cell_type": "code",
   "execution_count": 439,
   "id": "7e1f935f",
   "metadata": {},
   "outputs": [
    {
     "name": "stdout",
     "output_type": "stream",
     "text": [
      "working\n"
     ]
    }
   ],
   "source": [
    "while now.hour == 22 :\n",
    "    print('working')\n",
    "    break"
   ]
  },
  {
   "cell_type": "code",
   "execution_count": null,
   "id": "2d07bd0b",
   "metadata": {},
   "outputs": [],
   "source": []
  }
 ],
 "metadata": {
  "kernelspec": {
   "display_name": "Python 3 (ipykernel)",
   "language": "python",
   "name": "python3"
  },
  "language_info": {
   "codemirror_mode": {
    "name": "ipython",
    "version": 3
   },
   "file_extension": ".py",
   "mimetype": "text/x-python",
   "name": "python",
   "nbconvert_exporter": "python",
   "pygments_lexer": "ipython3",
   "version": "3.9.7"
  },
  "vscode": {
   "interpreter": {
    "hash": "8743faa4f4858d5a40fd41a5149682422031aff00136a0e91fa686edfda7ddc6"
   }
  }
 },
 "nbformat": 4,
 "nbformat_minor": 5
}
