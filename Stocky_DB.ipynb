{
 "cells": [
  {
   "cell_type": "code",
   "execution_count": 5,
   "id": "eebfec0b",
   "metadata": {},
   "outputs": [],
   "source": [
    "from deta import Deta\n",
    "import pandas as pd\n",
    "import numpy as np\n",
    "import yfinance as yf\n",
    "import datetime as dt\n",
    "from yahoo_fin.stock_info import *\n",
    "import plotly.graph_objects as go"
   ]
  },
  {
   "cell_type": "code",
   "execution_count": 6,
   "id": "d6e08f6d",
   "metadata": {},
   "outputs": [
    {
     "ename": "IndentationError",
     "evalue": "expected an indented block (Temp/ipykernel_4244/876515894.py, line 34)",
     "output_type": "error",
     "traceback": [
      "\u001b[1;36m  File \u001b[1;32m\"C:\\Users\\praveen\\AppData\\Local\\Temp/ipykernel_4244/876515894.py\"\u001b[1;36m, line \u001b[1;32m34\u001b[0m\n\u001b[1;33m    tickers = DB.get_all_ticker()\u001b[0m\n\u001b[1;37m    ^\u001b[0m\n\u001b[1;31mIndentationError\u001b[0m\u001b[1;31m:\u001b[0m expected an indented block\n"
     ]
    }
   ],
   "source": [
    "class StockyDb:\n",
    "    def __init__(self):\n",
    "        self.deta = Deta('d0p5if1f_GSnmoPk32YPhwKaJzN6sq7hM2DN4XPks')\n",
    "        self.db = self.deta.Base('StockyAI')\n",
    "        \n",
    "    def save_to_DB(self,ticker,df):\n",
    "        date_=[]\n",
    "        open_=[]\n",
    "        high_=[]\n",
    "        low_=[]\n",
    "        close_=[]\n",
    "        for i in range (0,len(df)):\n",
    "            df['Close']=df['Close'].astype(float)\n",
    "            df['Low']=df['Low'].astype(float)\n",
    "            df['High']=df['High'].astype(float)\n",
    "            df['Open']=df['Open'].astype(float)\n",
    "            date_.append(df['Date'][i])\n",
    "            open_.append(df['Open'][i])\n",
    "            high_.append(df['High'][i])\n",
    "            low_.append(df['Low'][i])\n",
    "            close_.append(df['Close'][i])\n",
    "        self.db.put({'key':ticker,'date':date_,'open':open_,'high':high_,'low':low_,'close':close_})\n",
    "    \n",
    "    def ticker_df(self,ticker):\n",
    "        return self.db.get(key=ticker)\n",
    "    \n",
    "    def get_all_ticker(self):\n",
    "        tickers=[]\n",
    "        for i in range(0,self.db.fetch().count):\n",
    "            tickers.append(self.db.fetch().items[i]['key'])\n",
    "        return tickers\n",
    "    \n",
    "    def Recomodation(self):\n",
    "    tickers = DB.get_all_ticker()\n",
    "    buy=[]\n",
    "    sell = []\n",
    "    \n",
    "    for i in tickers:\n",
    "        rec={}\n",
    "        df=pd.DataFrame(DB.ticker_df(i))\n",
    "        H_max=df['high'].max()\n",
    "        L_min=df['low'].min()\n",
    "        H_date=(df[df['high']==H_max])['date'].to_list()\n",
    "        L_date=(df[df['low']==L_min])['date'].to_list()\n",
    "        if H_date>L_date:\n",
    "            price={}\n",
    "            price['Ticker']=i\n",
    "            price['L_buy_price']=L_min\n",
    "            price['H_buy_price']=L_min+(L_min*0.01)\n",
    "            price['H_sell_price']=H_max\n",
    "            price['L_sell_price']=H_max-(H_max*0.01)\n",
    "            price['profit% ']=((price['L_sell_price']-price['H_buy_price'])/price['H_buy_price'])*100\n",
    "            buy.append(price)\n",
    "        elif H_date<L_date:\n",
    "            price={}\n",
    "            price['Ticker']=i\n",
    "            price['H_sell_price']=H_max\n",
    "            price['L_sell_price']=H_max-(H_max*0.01)\n",
    "            price['L_buy_price']=L_min\n",
    "            price['H_buy_price']=L_min+(L_min*0.01)\n",
    "            price['profit% ']=((price['L_sell_price']-price['H_buy_price'])/price['H_buy_price'])*100\n",
    "            sell.append(price)\n",
    "    \n",
    "    buy_df=pd.DataFrame()\n",
    "    for i in range (0,len(buy)):\n",
    "        buy_df=buy_df.append([buy[i]],ignore_index=True)\n",
    "    sell_df=pd.DataFrame()\n",
    "    for j in range (0,len(sell)):\n",
    "        sell_df=sell_df.append([sell[j]],ignore_index=True)\n",
    "    return buy_df,sell_df"
   ]
  },
  {
   "cell_type": "code",
   "execution_count": 161,
   "id": "6bb708e0",
   "metadata": {},
   "outputs": [],
   "source": [
    "dbp = deta.Base('StockyAI_portfolio')"
   ]
  },
  {
   "cell_type": "code",
   "execution_count": 2,
   "id": "2cd0337a",
   "metadata": {},
   "outputs": [],
   "source": [
    "class Portfolio():\n",
    "    def __init__(self):\n",
    "        self.dbp = deta.Base('StockyAI_portfolio')\n",
    "        self.p_data = self.dbp.get(key='praveen')\n",
    "        self.cash = self.p_data['cash']\n",
    "        self.stocks = self.p_data['stocks']\n",
    "        #self.S_df = pd.DataFrame(columns=['stock','buy_price','quantity'])\n",
    "        #self.S_df=self.S_df.append(self.stocks,ignore_index=True)\n",
    "        print(self.stocks)\n",
    "        \n",
    "    def Buy (self,ticker):\n",
    "        tik= ticker\n",
    "        ticker = yf.Ticker(ticker)\n",
    "        price = ticker.info\n",
    "        if (price['regularMarketPrice']) == None :\n",
    "            pre_day_price=ticker.history(period='1d')\n",
    "            print(ticker,\"Price - \",pre_day_price.iloc[0,3])\n",
    "            c_price =pre_day_price.iloc[0,3]\n",
    "            quant= int(input('Quantity'))\n",
    "            amt = c_price*quant\n",
    "            if self.cash >= amt:\n",
    "                self.cash=self.cash-amt\n",
    "                S_detail={}\n",
    "                S_detail['buy_price']=c_price\n",
    "                S_detail['quantity'] = quant\n",
    "                self.stocks[tik]=S_detail\n",
    "                #return self.stocks\n",
    "                self.dbp.put({'key':'praveen','cash':self.cash,'stocks':self.stocks})\n",
    "                \n",
    "            else:\n",
    "                print('INSUFICENT BALANCE')\n",
    "\n",
    "        else:\n",
    "            print(\"Price - \",price['regularMarketPrice'])\n",
    "            c_price =price['regularMarketPrice']\n",
    "            quant= int(input('Quantity'))\n",
    "            amt = c_price*quant\n",
    "            if self.cash >= amt:\n",
    "                self.cash=self.cash-amt\n",
    "                print('stocks brought')\n",
    "                print('available balance - ',cash)\n",
    "            else:\n",
    "                print('INSUFICENT BALANCE')\n",
    "\n",
    "    def Sell (self,ticker):\n",
    "        tik=ticker\n",
    "        ticker = yf.Ticker(ticker)\n",
    "        price = ticker.info\n",
    "        if (price['regularMarketPrice']) == None :\n",
    "            pre_day_price=ticker.history(period='1d')\n",
    "            print(ticker,\"Price - \",pre_day_price.iloc[0,3])\n",
    "            c_price =pre_day_price.iloc[0,3]\n",
    "            quant= int(input('Quantity'))\n",
    "            amt = c_price*quant\n",
    "            if self.stocks[tik]['quantity']>= quant :\n",
    "                self.cash=self.cash+amt\n",
    "                r_quant = self.stocks[tik]['quantity']-quant\n",
    "                S_details=(self.stocks[tik])\n",
    "                S_details['quantity']=r_quant\n",
    "                self.stocks[tik]=S_details\n",
    "                #print(self.stocks[tik])\n",
    "                #return self.stocks\n",
    "                self.dbp.put({'key':'praveen','cash':self.cash,'stocks':self.stocks})\n",
    "                \n",
    "                \n",
    "            else:\n",
    "                print('INSUFICENT BALANCE')\n",
    "\n",
    "        else:\n",
    "            print(\"Price - \",price['regularMarketPrice'])\n",
    "            c_price =price['regularMarketPrice']\n",
    "            quant= int(input('Quantity'))\n",
    "            amt = c_price*quant\n",
    "            if cash >= 0:\n",
    "                cash=cash+amt\n",
    "                print('stocks Sold')\n",
    "                print('available balance - ',cash)\n",
    "            else:\n",
    "                print('INSUFICENT BALANCE')\n",
    "        \n",
    "    def get_holdings(self):\n",
    "        #print(self.p_data['stocks'])\n",
    "        hold_df = pd.DataFrame(self.p_data['stocks'])\n",
    "        hold_df=hold_df.transpose()\n",
    "        hold_df=hold_df.reset_index()\n",
    "        hold_df['index']=hold_df['index'].astype('str')\n",
    "        tiks=hold_df['index'].to_list()\n",
    "        #tickers=yf.Tickers(tiks)\n",
    "        prices=[]\n",
    "        \n",
    "        for i in (tiks):\n",
    "            #i = tickers.tickers[i]\n",
    "            pr = get_live_price(i)\n",
    "            #pr = pr['regularMarketPrice']\n",
    "            prices.append(pr)\n",
    "            \n",
    "        #hold_df['current price']=hold_df['index'].apply(self.get_current_price)\n",
    "        hold_df['current price']=prices\n",
    "        return hold_df\n",
    "    \n",
    "    def get_current_price(self,ticker):\n",
    "        ticker=yf.Ticker(ticker)\n",
    "        info=ticker.info\n",
    "        return info['regularMarketPrice']"
   ]
  },
  {
   "cell_type": "code",
   "execution_count": 3,
   "id": "2d07bd0b",
   "metadata": {},
   "outputs": [],
   "source": [
    "deta = Deta('d0p5if1f_GSnmoPk32YPhwKaJzN6sq7hM2DN4XPks')\n",
    "dbh = deta.Base('StockyAI_home')"
   ]
  },
  {
   "cell_type": "code",
   "execution_count": 6,
   "id": "efc17e4a",
   "metadata": {},
   "outputs": [],
   "source": [
    "closing_price=dbh.get(key='closing price')\n",
    "closing_price=closing_price['price']"
   ]
  },
  {
   "cell_type": "code",
   "execution_count": 7,
   "id": "78829339",
   "metadata": {},
   "outputs": [],
   "source": [
    "Liveprices=dbh.get(key='Live prices')\n",
    "Live_prices=Live_prices['price']"
   ]
  },
  {
   "cell_type": "code",
   "execution_count": 21,
   "id": "62964ecd",
   "metadata": {},
   "outputs": [
    {
     "data": {
      "text/plain": [
       "4700.14990234375"
      ]
     },
     "execution_count": 21,
     "metadata": {},
     "output_type": "execute_result"
    }
   ],
   "source": [
    "Live_prices['APOLLOHOSP.NS']"
   ]
  },
  {
   "cell_type": "code",
   "execution_count": 22,
   "id": "d7544383",
   "metadata": {},
   "outputs": [],
   "source": [
    "N50List= tickers_nifty50()"
   ]
  },
  {
   "cell_type": "code",
   "execution_count": 23,
   "id": "55c0fa36",
   "metadata": {},
   "outputs": [
    {
     "data": {
      "text/plain": [
       "['ADANIENT.NS',\n",
       " 'APOLLOHOSP.NS',\n",
       " 'BAJAJ-AUTO.NS',\n",
       " 'BAJAJFINSV.NS',\n",
       " 'BAJFINANCE.NS',\n",
       " 'BHARTIARTL.NS',\n",
       " 'BRITANNIA.NS',\n",
       " 'CIPLA.NS',\n",
       " 'COALINDIA.NS',\n",
       " 'HDFCLIFE.NS',\n",
       " 'HEROMOTOCO.NS',\n",
       " 'HINDALCO.NS',\n",
       " 'ICICIBANK.NS',\n",
       " 'INDUSINDBK.NS',\n",
       " 'ITC.NS',\n",
       " 'KOTAKBANK.NS',\n",
       " 'LT.NS',\n",
       " 'MARUTI.NS',\n",
       " 'MM.NS',\n",
       " 'NESTLEIND.NS',\n",
       " 'NTPC.NS',\n",
       " 'ONGC.NS',\n",
       " 'RELIANCE.NS',\n",
       " 'TATACONSUM.NS',\n",
       " 'TATASTEEL.NS',\n",
       " 'TCS.NS',\n",
       " 'TECHM.NS',\n",
       " 'TITAN.NS',\n",
       " 'ULTRACEMCO.NS',\n",
       " 'WIPRO.NS']"
      ]
     },
     "execution_count": 23,
     "metadata": {},
     "output_type": "execute_result"
    }
   ],
   "source": [
    "N50List"
   ]
  },
  {
   "cell_type": "code",
   "execution_count": 19,
   "id": "794187b2",
   "metadata": {},
   "outputs": [],
   "source": [
    "change_price={}\n",
    "for i in (N50List):\n",
    "    change_price[i]=Live_prices[i]-closing_price[i]"
   ]
  },
  {
   "cell_type": "code",
   "execution_count": 24,
   "id": "50de3dee",
   "metadata": {},
   "outputs": [
    {
     "data": {
      "text/plain": [
       "0.0"
      ]
     },
     "execution_count": 24,
     "metadata": {},
     "output_type": "execute_result"
    }
   ],
   "source": [
    "change_price['ADANIENT.NS']"
   ]
  },
  {
   "cell_type": "code",
   "execution_count": 36,
   "id": "dc6a3b5e",
   "metadata": {},
   "outputs": [],
   "source": [
    "def N50_change():\n",
    "        N50List = tickers_nifty50()\n",
    "        closing_price=dbh.get(key='closing price')\n",
    "        closing_price=closing_price['price']\n",
    "        Live_prices=dbh.get(key='Live prices')\n",
    "        Live_pri=Live_prices['price']\n",
    "        change_price={}\n",
    "        for i in (N50List):\n",
    "            change_price[i]=Live_pri[i]-closing_price[i]\n",
    "\n",
    "        return change_price,N50List,Live_pri"
   ]
  },
  {
   "cell_type": "code",
   "execution_count": 37,
   "id": "71a2a48b",
   "metadata": {},
   "outputs": [],
   "source": [
    "change_price,N50_list,N50Live=N50_change()"
   ]
  },
  {
   "cell_type": "code",
   "execution_count": 38,
   "id": "bcf6593e",
   "metadata": {},
   "outputs": [
    {
     "data": {
      "text/plain": [
       "{'ADANIENT.NS': 3642.199951171875,\n",
       " 'APOLLOHOSP.NS': 4700.14990234375,\n",
       " 'BAJAJ-AUTO.NS': 3541.800048828125,\n",
       " 'BAJAJFINSV.NS': 1497.050048828125,\n",
       " 'BAJFINANCE.NS': 6374.60009765625,\n",
       " 'BHARTIARTL.NS': 808.6500244140625,\n",
       " 'BRITANNIA.NS': 4331.89990234375,\n",
       " 'CIPLA.NS': 1119.1500244140625,\n",
       " 'COALINDIA.NS': 215.0500030517578,\n",
       " 'HDFCLIFE.NS': 565.4500122070312,\n",
       " 'HEROMOTOCO.NS': 2636.85009765625,\n",
       " 'HINDALCO.NS': 429.54998779296875,\n",
       " 'ICICIBANK.NS': 878.9000244140625,\n",
       " 'INDUSINDBK.NS': 1147.8499755859375,\n",
       " 'ITC.NS': 326.70001220703125,\n",
       " 'KOTAKBANK.NS': 1821.949951171875,\n",
       " 'LT.NS': 2062.75,\n",
       " 'MARUTI.NS': 8141.60009765625,\n",
       " 'MM.NS': 1224.5999755859375,\n",
       " 'NESTLEIND.NS': 20132.75,\n",
       " 'NTPC.NS': 163,\n",
       " 'ONGC.NS': 139.8000030517578,\n",
       " 'RELIANCE.NS': 2502.199951171875,\n",
       " 'TATACONSUM.NS': 779,\n",
       " 'TATASTEEL.NS': 102.25,\n",
       " 'TCS.NS': 3228.35009765625,\n",
       " 'TECHM.NS': 995.75,\n",
       " 'TITAN.NS': 2483.050048828125,\n",
       " 'ULTRACEMCO.NS': 6909.39990234375,\n",
       " 'WIPRO.NS': 377.6499938964844}"
      ]
     },
     "execution_count": 38,
     "metadata": {},
     "output_type": "execute_result"
    }
   ],
   "source": [
    "N50Live"
   ]
  },
  {
   "cell_type": "code",
   "execution_count": 70,
   "id": "8e1e8a30",
   "metadata": {},
   "outputs": [],
   "source": [
    "def stock1Mp(ticker):\n",
    "    tick =yf.Ticker(ticker)\n",
    "    his = tick.history(period='1mo')\n",
    "    his=his.reset_index()\n",
    "    his.drop((['Dividends','Stock Splits']),axis=1,inplace=True)\n",
    "    return his"
   ]
  },
  {
   "cell_type": "code",
   "execution_count": 71,
   "id": "ff668501",
   "metadata": {},
   "outputs": [],
   "source": [
    "his=stock1Mp('TATAMOTORS.NS')"
   ]
  },
  {
   "cell_type": "code",
   "execution_count": 72,
   "id": "188bee67",
   "metadata": {},
   "outputs": [
    {
     "data": {
      "text/html": [
       "<div>\n",
       "<style scoped>\n",
       "    .dataframe tbody tr th:only-of-type {\n",
       "        vertical-align: middle;\n",
       "    }\n",
       "\n",
       "    .dataframe tbody tr th {\n",
       "        vertical-align: top;\n",
       "    }\n",
       "\n",
       "    .dataframe thead th {\n",
       "        text-align: right;\n",
       "    }\n",
       "</style>\n",
       "<table border=\"1\" class=\"dataframe\">\n",
       "  <thead>\n",
       "    <tr style=\"text-align: right;\">\n",
       "      <th></th>\n",
       "      <th>Date</th>\n",
       "      <th>Open</th>\n",
       "      <th>High</th>\n",
       "      <th>Low</th>\n",
       "      <th>Close</th>\n",
       "      <th>Volume</th>\n",
       "    </tr>\n",
       "  </thead>\n",
       "  <tbody>\n",
       "    <tr>\n",
       "      <th>0</th>\n",
       "      <td>2022-11-23</td>\n",
       "      <td>426.850006</td>\n",
       "      <td>429.299988</td>\n",
       "      <td>422.850006</td>\n",
       "      <td>424.049988</td>\n",
       "      <td>6568241</td>\n",
       "    </tr>\n",
       "    <tr>\n",
       "      <th>1</th>\n",
       "      <td>2022-11-24</td>\n",
       "      <td>424.500000</td>\n",
       "      <td>425.250000</td>\n",
       "      <td>420.700012</td>\n",
       "      <td>423.399994</td>\n",
       "      <td>6768613</td>\n",
       "    </tr>\n",
       "    <tr>\n",
       "      <th>2</th>\n",
       "      <td>2022-11-25</td>\n",
       "      <td>425.000000</td>\n",
       "      <td>435.149994</td>\n",
       "      <td>424.000000</td>\n",
       "      <td>433.200012</td>\n",
       "      <td>18764073</td>\n",
       "    </tr>\n",
       "    <tr>\n",
       "      <th>3</th>\n",
       "      <td>2022-11-28</td>\n",
       "      <td>435.000000</td>\n",
       "      <td>440.350006</td>\n",
       "      <td>432.399994</td>\n",
       "      <td>433.250000</td>\n",
       "      <td>10701208</td>\n",
       "    </tr>\n",
       "    <tr>\n",
       "      <th>4</th>\n",
       "      <td>2022-11-29</td>\n",
       "      <td>432.500000</td>\n",
       "      <td>437.899994</td>\n",
       "      <td>429.549988</td>\n",
       "      <td>433.149994</td>\n",
       "      <td>8630105</td>\n",
       "    </tr>\n",
       "    <tr>\n",
       "      <th>5</th>\n",
       "      <td>2022-11-30</td>\n",
       "      <td>435.000000</td>\n",
       "      <td>441.000000</td>\n",
       "      <td>433.299988</td>\n",
       "      <td>439.399994</td>\n",
       "      <td>14727892</td>\n",
       "    </tr>\n",
       "    <tr>\n",
       "      <th>6</th>\n",
       "      <td>2022-12-01</td>\n",
       "      <td>443.000000</td>\n",
       "      <td>443.600006</td>\n",
       "      <td>436.850006</td>\n",
       "      <td>438.250000</td>\n",
       "      <td>8909310</td>\n",
       "    </tr>\n",
       "    <tr>\n",
       "      <th>7</th>\n",
       "      <td>2022-12-02</td>\n",
       "      <td>439.000000</td>\n",
       "      <td>441.149994</td>\n",
       "      <td>435.000000</td>\n",
       "      <td>435.399994</td>\n",
       "      <td>8352658</td>\n",
       "    </tr>\n",
       "    <tr>\n",
       "      <th>8</th>\n",
       "      <td>2022-12-05</td>\n",
       "      <td>435.500000</td>\n",
       "      <td>437.500000</td>\n",
       "      <td>427.799988</td>\n",
       "      <td>428.750000</td>\n",
       "      <td>12857807</td>\n",
       "    </tr>\n",
       "    <tr>\n",
       "      <th>9</th>\n",
       "      <td>2022-12-06</td>\n",
       "      <td>428.799988</td>\n",
       "      <td>431.350006</td>\n",
       "      <td>425.350006</td>\n",
       "      <td>427.100006</td>\n",
       "      <td>8461831</td>\n",
       "    </tr>\n",
       "    <tr>\n",
       "      <th>10</th>\n",
       "      <td>2022-12-07</td>\n",
       "      <td>428.000000</td>\n",
       "      <td>428.000000</td>\n",
       "      <td>419.100006</td>\n",
       "      <td>420.100006</td>\n",
       "      <td>12133315</td>\n",
       "    </tr>\n",
       "    <tr>\n",
       "      <th>11</th>\n",
       "      <td>2022-12-08</td>\n",
       "      <td>421.000000</td>\n",
       "      <td>421.399994</td>\n",
       "      <td>415.350006</td>\n",
       "      <td>417.200012</td>\n",
       "      <td>9539923</td>\n",
       "    </tr>\n",
       "    <tr>\n",
       "      <th>12</th>\n",
       "      <td>2022-12-09</td>\n",
       "      <td>419.299988</td>\n",
       "      <td>420.950012</td>\n",
       "      <td>409.549988</td>\n",
       "      <td>413.299988</td>\n",
       "      <td>9920219</td>\n",
       "    </tr>\n",
       "    <tr>\n",
       "      <th>13</th>\n",
       "      <td>2022-12-12</td>\n",
       "      <td>412.000000</td>\n",
       "      <td>416.899994</td>\n",
       "      <td>408.000000</td>\n",
       "      <td>414.149994</td>\n",
       "      <td>8009229</td>\n",
       "    </tr>\n",
       "    <tr>\n",
       "      <th>14</th>\n",
       "      <td>2022-12-13</td>\n",
       "      <td>419.950012</td>\n",
       "      <td>421.500000</td>\n",
       "      <td>417.250000</td>\n",
       "      <td>418.500000</td>\n",
       "      <td>9717894</td>\n",
       "    </tr>\n",
       "    <tr>\n",
       "      <th>15</th>\n",
       "      <td>2022-12-14</td>\n",
       "      <td>420.549988</td>\n",
       "      <td>421.350006</td>\n",
       "      <td>417.350006</td>\n",
       "      <td>417.899994</td>\n",
       "      <td>6314883</td>\n",
       "    </tr>\n",
       "    <tr>\n",
       "      <th>16</th>\n",
       "      <td>2022-12-15</td>\n",
       "      <td>418.850006</td>\n",
       "      <td>422.799988</td>\n",
       "      <td>415.700012</td>\n",
       "      <td>416.700012</td>\n",
       "      <td>7542601</td>\n",
       "    </tr>\n",
       "    <tr>\n",
       "      <th>17</th>\n",
       "      <td>2022-12-16</td>\n",
       "      <td>417.350006</td>\n",
       "      <td>427.799988</td>\n",
       "      <td>413.100006</td>\n",
       "      <td>421.600006</td>\n",
       "      <td>50949198</td>\n",
       "    </tr>\n",
       "    <tr>\n",
       "      <th>18</th>\n",
       "      <td>2022-12-19</td>\n",
       "      <td>421.899994</td>\n",
       "      <td>422.850006</td>\n",
       "      <td>415.500000</td>\n",
       "      <td>418.000000</td>\n",
       "      <td>9809103</td>\n",
       "    </tr>\n",
       "    <tr>\n",
       "      <th>19</th>\n",
       "      <td>2022-12-20</td>\n",
       "      <td>418.000000</td>\n",
       "      <td>418.000000</td>\n",
       "      <td>408.000000</td>\n",
       "      <td>410.500000</td>\n",
       "      <td>12341042</td>\n",
       "    </tr>\n",
       "    <tr>\n",
       "      <th>20</th>\n",
       "      <td>2022-12-21</td>\n",
       "      <td>412.600006</td>\n",
       "      <td>414.399994</td>\n",
       "      <td>401.000000</td>\n",
       "      <td>402.600006</td>\n",
       "      <td>11606059</td>\n",
       "    </tr>\n",
       "    <tr>\n",
       "      <th>21</th>\n",
       "      <td>2022-12-22</td>\n",
       "      <td>404.100006</td>\n",
       "      <td>404.700012</td>\n",
       "      <td>390.200012</td>\n",
       "      <td>394.450012</td>\n",
       "      <td>14908929</td>\n",
       "    </tr>\n",
       "    <tr>\n",
       "      <th>22</th>\n",
       "      <td>2022-12-23</td>\n",
       "      <td>390.000000</td>\n",
       "      <td>390.000000</td>\n",
       "      <td>377.000000</td>\n",
       "      <td>378.350006</td>\n",
       "      <td>19902886</td>\n",
       "    </tr>\n",
       "  </tbody>\n",
       "</table>\n",
       "</div>"
      ],
      "text/plain": [
       "         Date        Open        High         Low       Close    Volume\n",
       "0  2022-11-23  426.850006  429.299988  422.850006  424.049988   6568241\n",
       "1  2022-11-24  424.500000  425.250000  420.700012  423.399994   6768613\n",
       "2  2022-11-25  425.000000  435.149994  424.000000  433.200012  18764073\n",
       "3  2022-11-28  435.000000  440.350006  432.399994  433.250000  10701208\n",
       "4  2022-11-29  432.500000  437.899994  429.549988  433.149994   8630105\n",
       "5  2022-11-30  435.000000  441.000000  433.299988  439.399994  14727892\n",
       "6  2022-12-01  443.000000  443.600006  436.850006  438.250000   8909310\n",
       "7  2022-12-02  439.000000  441.149994  435.000000  435.399994   8352658\n",
       "8  2022-12-05  435.500000  437.500000  427.799988  428.750000  12857807\n",
       "9  2022-12-06  428.799988  431.350006  425.350006  427.100006   8461831\n",
       "10 2022-12-07  428.000000  428.000000  419.100006  420.100006  12133315\n",
       "11 2022-12-08  421.000000  421.399994  415.350006  417.200012   9539923\n",
       "12 2022-12-09  419.299988  420.950012  409.549988  413.299988   9920219\n",
       "13 2022-12-12  412.000000  416.899994  408.000000  414.149994   8009229\n",
       "14 2022-12-13  419.950012  421.500000  417.250000  418.500000   9717894\n",
       "15 2022-12-14  420.549988  421.350006  417.350006  417.899994   6314883\n",
       "16 2022-12-15  418.850006  422.799988  415.700012  416.700012   7542601\n",
       "17 2022-12-16  417.350006  427.799988  413.100006  421.600006  50949198\n",
       "18 2022-12-19  421.899994  422.850006  415.500000  418.000000   9809103\n",
       "19 2022-12-20  418.000000  418.000000  408.000000  410.500000  12341042\n",
       "20 2022-12-21  412.600006  414.399994  401.000000  402.600006  11606059\n",
       "21 2022-12-22  404.100006  404.700012  390.200012  394.450012  14908929\n",
       "22 2022-12-23  390.000000  390.000000  377.000000  378.350006  19902886"
      ]
     },
     "execution_count": 72,
     "metadata": {},
     "output_type": "execute_result"
    }
   ],
   "source": [
    "his"
   ]
  },
  {
   "cell_type": "code",
   "execution_count": 53,
   "id": "f4534d76",
   "metadata": {},
   "outputs": [
    {
     "data": {
      "text/plain": [
       "{Timestamp('2022-11-23 00:00:00'): 424.04998779296875,\n",
       " Timestamp('2022-11-24 00:00:00'): 423.3999938964844,\n",
       " Timestamp('2022-11-25 00:00:00'): 433.20001220703125,\n",
       " Timestamp('2022-11-28 00:00:00'): 433.25,\n",
       " Timestamp('2022-11-29 00:00:00'): 433.1499938964844,\n",
       " Timestamp('2022-11-30 00:00:00'): 439.3999938964844,\n",
       " Timestamp('2022-12-01 00:00:00'): 438.25,\n",
       " Timestamp('2022-12-02 00:00:00'): 435.3999938964844,\n",
       " Timestamp('2022-12-05 00:00:00'): 428.75,\n",
       " Timestamp('2022-12-06 00:00:00'): 427.1000061035156,\n",
       " Timestamp('2022-12-07 00:00:00'): 420.1000061035156,\n",
       " Timestamp('2022-12-08 00:00:00'): 417.20001220703125,\n",
       " Timestamp('2022-12-09 00:00:00'): 413.29998779296875,\n",
       " Timestamp('2022-12-12 00:00:00'): 414.1499938964844,\n",
       " Timestamp('2022-12-13 00:00:00'): 418.5,\n",
       " Timestamp('2022-12-14 00:00:00'): 417.8999938964844,\n",
       " Timestamp('2022-12-15 00:00:00'): 416.70001220703125,\n",
       " Timestamp('2022-12-16 00:00:00'): 421.6000061035156,\n",
       " Timestamp('2022-12-19 00:00:00'): 418.0,\n",
       " Timestamp('2022-12-20 00:00:00'): 410.5,\n",
       " Timestamp('2022-12-21 00:00:00'): 402.6000061035156,\n",
       " Timestamp('2022-12-22 00:00:00'): 394.45001220703125,\n",
       " Timestamp('2022-12-23 00:00:00'): 378.3500061035156}"
      ]
     },
     "execution_count": 53,
     "metadata": {},
     "output_type": "execute_result"
    }
   ],
   "source": [
    "go.Line(his['Close'])"
   ]
  },
  {
   "cell_type": "code",
   "execution_count": 74,
   "id": "ce9d663a",
   "metadata": {},
   "outputs": [
    {
     "data": {
      "text/plain": [
       "17806"
      ]
     },
     "execution_count": 74,
     "metadata": {},
     "output_type": "execute_result"
    }
   ],
   "source": [
    "int(get_live_price('^NSEI'))"
   ]
  },
  {
   "cell_type": "code",
   "execution_count": 5,
   "id": "cc333261",
   "metadata": {},
   "outputs": [
    {
     "ename": "TypeError",
     "evalue": "string indices must be integers",
     "output_type": "error",
     "traceback": [
      "\u001b[1;31m---------------------------------------------------------------------------\u001b[0m",
      "\u001b[1;31mTypeError\u001b[0m                                 Traceback (most recent call last)",
      "\u001b[1;32m~\\AppData\\Local\\Temp/ipykernel_8304/3715600846.py\u001b[0m in \u001b[0;36m<module>\u001b[1;34m\u001b[0m\n\u001b[1;32m----> 1\u001b[1;33m \u001b[0mget_company_info\u001b[0m\u001b[1;33m(\u001b[0m\u001b[1;34m'SBIN.NS'\u001b[0m\u001b[1;33m)\u001b[0m\u001b[1;33m\u001b[0m\u001b[1;33m\u001b[0m\u001b[0m\n\u001b[0m",
      "\u001b[1;32m~\\anaconda3\\lib\\site-packages\\yahoo_fin\\stock_info.py\u001b[0m in \u001b[0;36mget_company_info\u001b[1;34m(ticker)\u001b[0m\n\u001b[0;32m   1013\u001b[0m     \u001b[0msite\u001b[0m \u001b[1;33m=\u001b[0m \u001b[1;34mf\"https://finance.yahoo.com/quote/{ticker}/profile?p={ticker}\"\u001b[0m\u001b[1;33m\u001b[0m\u001b[1;33m\u001b[0m\u001b[0m\n\u001b[0;32m   1014\u001b[0m     \u001b[0mjson_info\u001b[0m \u001b[1;33m=\u001b[0m \u001b[0m_parse_json\u001b[0m\u001b[1;33m(\u001b[0m\u001b[0msite\u001b[0m\u001b[1;33m)\u001b[0m\u001b[1;33m\u001b[0m\u001b[1;33m\u001b[0m\u001b[0m\n\u001b[1;32m-> 1015\u001b[1;33m     \u001b[0mjson_info\u001b[0m \u001b[1;33m=\u001b[0m \u001b[0mjson_info\u001b[0m\u001b[1;33m[\u001b[0m\u001b[1;34m\"assetProfile\"\u001b[0m\u001b[1;33m]\u001b[0m\u001b[1;33m\u001b[0m\u001b[1;33m\u001b[0m\u001b[0m\n\u001b[0m\u001b[0;32m   1016\u001b[0m     info_frame = pd.DataFrame.from_dict(json_info,\n\u001b[0;32m   1017\u001b[0m                                         \u001b[0morient\u001b[0m\u001b[1;33m=\u001b[0m\u001b[1;34m\"index\"\u001b[0m\u001b[1;33m,\u001b[0m\u001b[1;33m\u001b[0m\u001b[1;33m\u001b[0m\u001b[0m\n",
      "\u001b[1;31mTypeError\u001b[0m: string indices must be integers"
     ]
    }
   ],
   "source": [
    "get_company_info('SBIN.NS')"
   ]
  },
  {
   "cell_type": "code",
   "execution_count": 17,
   "id": "afb49e1d",
   "metadata": {},
   "outputs": [
    {
     "data": {
      "text/plain": [
       "117.70117"
      ]
     },
     "execution_count": 17,
     "metadata": {},
     "output_type": "execute_result"
    }
   ],
   "source": [
    "get_quote_data('^NSEI')['regularMarketChange']"
   ]
  },
  {
   "cell_type": "code",
   "execution_count": 19,
   "id": "0dc74116",
   "metadata": {},
   "outputs": [
    {
     "data": {
      "text/plain": [
       "['ADANIENT.NS',\n",
       " 'APOLLOHOSP.NS',\n",
       " 'BAJAJ-AUTO.NS',\n",
       " 'BAJAJFINSV.NS',\n",
       " 'BAJFINANCE.NS',\n",
       " 'BHARTIARTL.NS',\n",
       " 'BRITANNIA.NS',\n",
       " 'CIPLA.NS',\n",
       " 'COALINDIA.NS',\n",
       " 'HDFCLIFE.NS',\n",
       " 'HEROMOTOCO.NS',\n",
       " 'HINDALCO.NS',\n",
       " 'ICICIBANK.NS',\n",
       " 'INDUSINDBK.NS',\n",
       " 'ITC.NS',\n",
       " 'KOTAKBANK.NS',\n",
       " 'LT.NS',\n",
       " 'MARUTI.NS',\n",
       " 'MM.NS',\n",
       " 'NESTLEIND.NS',\n",
       " 'NTPC.NS',\n",
       " 'ONGC.NS',\n",
       " 'RELIANCE.NS',\n",
       " 'TATACONSUM.NS',\n",
       " 'TATASTEEL.NS',\n",
       " 'TCS.NS',\n",
       " 'TECHM.NS',\n",
       " 'TITAN.NS',\n",
       " 'ULTRACEMCO.NS',\n",
       " 'WIPRO.NS']"
      ]
     },
     "execution_count": 19,
     "metadata": {},
     "output_type": "execute_result"
    }
   ],
   "source": [
    "tickers_nifty50()"
   ]
  },
  {
   "cell_type": "code",
   "execution_count": 22,
   "id": "c8cf6607",
   "metadata": {},
   "outputs": [
    {
     "data": {
      "text/plain": [
       "2022-01-03    143.050003\n",
       "2022-01-04    147.800003\n",
       "2022-01-05    150.350006\n",
       "2022-01-06    150.800003\n",
       "2022-01-07    157.050003\n",
       "                 ...    \n",
       "2022-11-24    139.449997\n",
       "2022-11-25    140.550003\n",
       "2022-11-28    139.600006\n",
       "2022-11-29    140.250000\n",
       "2022-11-30    141.100006\n",
       "Name: close, Length: 226, dtype: float64"
      ]
     },
     "execution_count": 22,
     "metadata": {},
     "output_type": "execute_result"
    }
   ],
   "source": [
    "get_data('ONGC.NS',start_date='2022-01-01',end_date='2022-12-01')['close']"
   ]
  },
  {
   "cell_type": "code",
   "execution_count": 35,
   "id": "52a16712",
   "metadata": {},
   "outputs": [],
   "source": [
    "today=dt.datetime.now().strftime('%Y-%m-%d')"
   ]
  },
  {
   "cell_type": "code",
   "execution_count": 44,
   "id": "9149c1ff",
   "metadata": {},
   "outputs": [
    {
     "data": {
      "text/plain": [
       "'2022-11-27'"
      ]
     },
     "execution_count": 44,
     "metadata": {},
     "output_type": "execute_result"
    }
   ],
   "source": [
    "(dt.datetime.today()-dt.timedelta(30)).strftime('%Y-%m-%d')"
   ]
  },
  {
   "cell_type": "code",
   "execution_count": 47,
   "id": "e0cc3ed4",
   "metadata": {},
   "outputs": [
    {
     "data": {
      "text/plain": [
       "{'language': 'en-US',\n",
       " 'region': 'US',\n",
       " 'quoteType': 'EQUITY',\n",
       " 'typeDisp': 'Equity',\n",
       " 'quoteSourceName': 'Delayed Quote',\n",
       " 'triggerable': True,\n",
       " 'customPriceAlertConfidence': 'HIGH',\n",
       " 'currency': 'INR',\n",
       " 'regularMarketChangePercent': 1.6031554,\n",
       " 'regularMarketPrice': 386.6,\n",
       " 'marketState': 'POSTPOST',\n",
       " 'exchange': 'NSI',\n",
       " 'shortName': 'WIPRO LTD',\n",
       " 'longName': 'Wipro Limited',\n",
       " 'messageBoardId': 'finmb_598611',\n",
       " 'exchangeTimezoneName': 'Asia/Kolkata',\n",
       " 'exchangeTimezoneShortName': 'IST',\n",
       " 'gmtOffSetMilliseconds': 19800000,\n",
       " 'market': 'in_market',\n",
       " 'esgPopulated': False,\n",
       " 'fiftyTwoWeekLowChange': 14.200012,\n",
       " 'fiftyTwoWeekLowChangePercent': 0.038131077,\n",
       " 'fiftyTwoWeekRange': '372.4 - 726.8',\n",
       " 'fiftyTwoWeekHighChange': -340.19998,\n",
       " 'fiftyTwoWeekHighChangePercent': -0.46807924,\n",
       " 'fiftyTwoWeekLow': 372.4,\n",
       " 'fiftyTwoWeekHigh': 726.8,\n",
       " 'earningsTimestamp': 1673605800,\n",
       " 'earningsTimestampStart': 1673605800,\n",
       " 'earningsTimestampEnd': 1673605800,\n",
       " 'trailingAnnualDividendRate': 5.0,\n",
       " 'trailingPE': 18.803503,\n",
       " 'trailingAnnualDividendYield': 0.013140605,\n",
       " 'epsTrailingTwelveMonths': 20.56,\n",
       " 'epsForward': 24.08,\n",
       " 'epsCurrentYear': 20.7,\n",
       " 'priceEpsCurrentYear': 18.676329,\n",
       " 'sharesOutstanding': 5472779776,\n",
       " 'bookValue': 131.085,\n",
       " 'fiftyDayAverage': 393.413,\n",
       " 'fiftyDayAverageChange': -6.8129883,\n",
       " 'fiftyDayAverageChangePercent': -0.017317649,\n",
       " 'twoHundredDayAverage': 440.48126,\n",
       " 'twoHundredDayAverageChange': -53.881256,\n",
       " 'twoHundredDayAverageChangePercent': -0.1223236,\n",
       " 'marketCap': 2116333469696,\n",
       " 'forwardPE': 16.054817,\n",
       " 'priceToBook': 2.9492314,\n",
       " 'sourceInterval': 15,\n",
       " 'exchangeDataDelayedBy': 15,\n",
       " 'averageAnalystRating': '3.2 - Hold',\n",
       " 'tradeable': False,\n",
       " 'cryptoTradeable': False,\n",
       " 'firstTradeDateMilliseconds': 820467900000,\n",
       " 'priceHint': 2,\n",
       " 'regularMarketChange': 6.100006,\n",
       " 'regularMarketTime': 1672135199,\n",
       " 'regularMarketDayHigh': 387.35,\n",
       " 'regularMarketDayRange': '380.25 - 387.35',\n",
       " 'regularMarketDayLow': 380.25,\n",
       " 'regularMarketVolume': 3841514,\n",
       " 'regularMarketPreviousClose': 380.5,\n",
       " 'bid': 0.0,\n",
       " 'ask': 0.0,\n",
       " 'bidSize': 0,\n",
       " 'askSize': 0,\n",
       " 'fullExchangeName': 'NSE',\n",
       " 'financialCurrency': 'INR',\n",
       " 'regularMarketOpen': 382.5,\n",
       " 'averageDailyVolume3Month': 6252410,\n",
       " 'averageDailyVolume10Day': 4944801,\n",
       " 'symbol': 'WIPRO.NS'}"
      ]
     },
     "execution_count": 47,
     "metadata": {},
     "output_type": "execute_result"
    }
   ],
   "source": [
    "get_quote_data('WIPRO.NS')"
   ]
  },
  {
   "cell_type": "code",
   "execution_count": 72,
   "id": "a405aacb",
   "metadata": {},
   "outputs": [],
   "source": [
    "def Stock_details(ticker):\n",
    "    details = get_quote_data(ticker)\n",
    "    L_ofItems=['longName','regularMarketChangePercent','regularMarketPrice','fiftyTwoWeekLow','fiftyTwoWeekHigh','fiftyDayAverage','twoHundredDayAverage','regularMarketChange','regularMarketDayHigh','regularMarketDayLow','regularMarketPreviousClose']\n",
    "    laa = []\n",
    "    for i in (L_ofItems):\n",
    "        laa.append(details[i])\n",
    "    df = pd.DataFrame(laa,index=L_ofItems)\n",
    "    return df"
   ]
  },
  {
   "cell_type": "code",
   "execution_count": 73,
   "id": "715d59f1",
   "metadata": {},
   "outputs": [
    {
     "data": {
      "text/html": [
       "<div>\n",
       "<style scoped>\n",
       "    .dataframe tbody tr th:only-of-type {\n",
       "        vertical-align: middle;\n",
       "    }\n",
       "\n",
       "    .dataframe tbody tr th {\n",
       "        vertical-align: top;\n",
       "    }\n",
       "\n",
       "    .dataframe thead th {\n",
       "        text-align: right;\n",
       "    }\n",
       "</style>\n",
       "<table border=\"1\" class=\"dataframe\">\n",
       "  <thead>\n",
       "    <tr style=\"text-align: right;\">\n",
       "      <th></th>\n",
       "      <th>0</th>\n",
       "    </tr>\n",
       "  </thead>\n",
       "  <tbody>\n",
       "    <tr>\n",
       "      <th>longName</th>\n",
       "      <td>Wipro Limited</td>\n",
       "    </tr>\n",
       "    <tr>\n",
       "      <th>regularMarketChangePercent</th>\n",
       "      <td>1.603155</td>\n",
       "    </tr>\n",
       "    <tr>\n",
       "      <th>regularMarketPrice</th>\n",
       "      <td>386.6</td>\n",
       "    </tr>\n",
       "    <tr>\n",
       "      <th>fiftyTwoWeekLow</th>\n",
       "      <td>372.4</td>\n",
       "    </tr>\n",
       "    <tr>\n",
       "      <th>fiftyTwoWeekHigh</th>\n",
       "      <td>726.8</td>\n",
       "    </tr>\n",
       "    <tr>\n",
       "      <th>fiftyDayAverage</th>\n",
       "      <td>393.413</td>\n",
       "    </tr>\n",
       "    <tr>\n",
       "      <th>twoHundredDayAverage</th>\n",
       "      <td>440.48126</td>\n",
       "    </tr>\n",
       "    <tr>\n",
       "      <th>regularMarketChange</th>\n",
       "      <td>6.100006</td>\n",
       "    </tr>\n",
       "    <tr>\n",
       "      <th>regularMarketDayHigh</th>\n",
       "      <td>387.35</td>\n",
       "    </tr>\n",
       "    <tr>\n",
       "      <th>regularMarketDayLow</th>\n",
       "      <td>380.25</td>\n",
       "    </tr>\n",
       "    <tr>\n",
       "      <th>regularMarketPreviousClose</th>\n",
       "      <td>380.5</td>\n",
       "    </tr>\n",
       "  </tbody>\n",
       "</table>\n",
       "</div>"
      ],
      "text/plain": [
       "                                        0\n",
       "longName                    Wipro Limited\n",
       "regularMarketChangePercent       1.603155\n",
       "regularMarketPrice                  386.6\n",
       "fiftyTwoWeekLow                     372.4\n",
       "fiftyTwoWeekHigh                    726.8\n",
       "fiftyDayAverage                   393.413\n",
       "twoHundredDayAverage            440.48126\n",
       "regularMarketChange              6.100006\n",
       "regularMarketDayHigh               387.35\n",
       "regularMarketDayLow                380.25\n",
       "regularMarketPreviousClose          380.5"
      ]
     },
     "execution_count": 73,
     "metadata": {},
     "output_type": "execute_result"
    }
   ],
   "source": [
    "Stock_details('WIPRO.NS')"
   ]
  },
  {
   "cell_type": "code",
   "execution_count": 4,
   "id": "7fa18b1d",
   "metadata": {},
   "outputs": [
    {
     "ename": "NameError",
     "evalue": "name 'deta' is not defined",
     "output_type": "error",
     "traceback": [
      "\u001b[1;31m---------------------------------------------------------------------------\u001b[0m",
      "\u001b[1;31mNameError\u001b[0m                                 Traceback (most recent call last)",
      "\u001b[1;32m~\\AppData\\Local\\Temp/ipykernel_4244/1199205818.py\u001b[0m in \u001b[0;36m<module>\u001b[1;34m\u001b[0m\n\u001b[1;32m----> 1\u001b[1;33m \u001b[0mdb\u001b[0m \u001b[1;33m=\u001b[0m \u001b[0mPortfolio\u001b[0m\u001b[1;33m(\u001b[0m\u001b[1;33m)\u001b[0m\u001b[1;33m\u001b[0m\u001b[1;33m\u001b[0m\u001b[0m\n\u001b[0m",
      "\u001b[1;32m~\\AppData\\Local\\Temp/ipykernel_4244/599760600.py\u001b[0m in \u001b[0;36m__init__\u001b[1;34m(self)\u001b[0m\n\u001b[0;32m      1\u001b[0m \u001b[1;32mclass\u001b[0m \u001b[0mPortfolio\u001b[0m\u001b[1;33m(\u001b[0m\u001b[1;33m)\u001b[0m\u001b[1;33m:\u001b[0m\u001b[1;33m\u001b[0m\u001b[1;33m\u001b[0m\u001b[0m\n\u001b[0;32m      2\u001b[0m     \u001b[1;32mdef\u001b[0m \u001b[0m__init__\u001b[0m\u001b[1;33m(\u001b[0m\u001b[0mself\u001b[0m\u001b[1;33m)\u001b[0m\u001b[1;33m:\u001b[0m\u001b[1;33m\u001b[0m\u001b[1;33m\u001b[0m\u001b[0m\n\u001b[1;32m----> 3\u001b[1;33m         \u001b[0mself\u001b[0m\u001b[1;33m.\u001b[0m\u001b[0mdbp\u001b[0m \u001b[1;33m=\u001b[0m \u001b[0mdeta\u001b[0m\u001b[1;33m.\u001b[0m\u001b[0mBase\u001b[0m\u001b[1;33m(\u001b[0m\u001b[1;34m'StockyAI_portfolio'\u001b[0m\u001b[1;33m)\u001b[0m\u001b[1;33m\u001b[0m\u001b[1;33m\u001b[0m\u001b[0m\n\u001b[0m\u001b[0;32m      4\u001b[0m         \u001b[0mself\u001b[0m\u001b[1;33m.\u001b[0m\u001b[0mp_data\u001b[0m \u001b[1;33m=\u001b[0m \u001b[0mself\u001b[0m\u001b[1;33m.\u001b[0m\u001b[0mdbp\u001b[0m\u001b[1;33m.\u001b[0m\u001b[0mget\u001b[0m\u001b[1;33m(\u001b[0m\u001b[0mkey\u001b[0m\u001b[1;33m=\u001b[0m\u001b[1;34m'praveen'\u001b[0m\u001b[1;33m)\u001b[0m\u001b[1;33m\u001b[0m\u001b[1;33m\u001b[0m\u001b[0m\n\u001b[0;32m      5\u001b[0m         \u001b[0mself\u001b[0m\u001b[1;33m.\u001b[0m\u001b[0mcash\u001b[0m \u001b[1;33m=\u001b[0m \u001b[0mself\u001b[0m\u001b[1;33m.\u001b[0m\u001b[0mp_data\u001b[0m\u001b[1;33m[\u001b[0m\u001b[1;34m'cash'\u001b[0m\u001b[1;33m]\u001b[0m\u001b[1;33m\u001b[0m\u001b[1;33m\u001b[0m\u001b[0m\n",
      "\u001b[1;31mNameError\u001b[0m: name 'deta' is not defined"
     ]
    }
   ],
   "source": [
    "db = Portfolio()"
   ]
  },
  {
   "cell_type": "code",
   "execution_count": 15,
   "id": "5748a4e0",
   "metadata": {},
   "outputs": [],
   "source": [
    "def live_stock(ticker):\n",
    "    details=get_quote_data(ticker)\n",
    "    name = details['longName']\n",
    "    C_price = round(details['regularMarketPrice'],2)\n",
    "    C_change = round(details['regularMarketChange'],2)\n",
    "    return name,C_price,C_change"
   ]
  },
  {
   "cell_type": "code",
   "execution_count": 16,
   "id": "3923a04d",
   "metadata": {},
   "outputs": [
    {
     "name": "stdout",
     "output_type": "stream",
     "text": [
      "NTPC Limited 166.75 0.9\n",
      "{'language': 'en-US', 'region': 'US', 'quoteType': 'EQUITY', 'typeDisp': 'Equity', 'quoteSourceName': 'Delayed Quote', 'triggerable': True, 'customPriceAlertConfidence': 'HIGH', 'marketState': 'POSTPOST', 'regularMarketChangePercent': 0.5426553, 'regularMarketPrice': 166.75, 'currency': 'INR', 'exchange': 'NSI', 'shortName': 'NTPC LTD', 'longName': 'NTPC Limited', 'messageBoardId': 'finmb_9673133', 'exchangeTimezoneName': 'Asia/Kolkata', 'exchangeTimezoneShortName': 'IST', 'gmtOffSetMilliseconds': 19800000, 'market': 'in_market', 'esgPopulated': False, 'earningsTimestamp': 1667043000, 'earningsTimestampStart': 1667043000, 'earningsTimestampEnd': 1667043000, 'trailingAnnualDividendRate': 3.0, 'trailingPE': 10.223789, 'trailingAnnualDividendYield': 0.018088633, 'epsTrailingTwelveMonths': 16.31, 'epsForward': 18.84, 'epsCurrentYear': 16.84, 'priceEpsCurrentYear': 9.902019, 'sharesOutstanding': 9696669696, 'bookValue': 145.864, 'fiftyDayAverage': 170.684, 'fiftyDayAverageChange': -3.9340057, 'fiftyDayAverageChangePercent': -0.023048474, 'twoHundredDayAverage': 158.571, 'twoHundredDayAverageChange': 8.179001, 'twoHundredDayAverageChangePercent': 0.051579423, 'marketCap': 1616919658496, 'forwardPE': 8.850849, 'priceToBook': 1.1431882, 'sourceInterval': 15, 'exchangeDataDelayedBy': 15, 'averageAnalystRating': '1.4 - Strong Buy', 'firstTradeDateMilliseconds': 1099626300000, 'priceHint': 2, 'tradeable': False, 'cryptoTradeable': False, 'regularMarketChange': 0.8999939, 'regularMarketTime': 1672308000, 'regularMarketDayHigh': 167.4, 'regularMarketDayRange': '164.0 - 167.4', 'regularMarketDayLow': 164.0, 'regularMarketVolume': 19570776, 'regularMarketPreviousClose': 165.85, 'bid': 0.0, 'ask': 0.0, 'bidSize': 0, 'askSize': 0, 'fullExchangeName': 'NSE', 'financialCurrency': 'INR', 'regularMarketOpen': 165.0, 'averageDailyVolume3Month': 11095621, 'averageDailyVolume10Day': 8313775, 'fiftyTwoWeekLowChange': 44.5, 'fiftyTwoWeekLowChangePercent': 0.3640082, 'fiftyTwoWeekRange': '122.25 - 182.95', 'fiftyTwoWeekHighChange': -16.199997, 'fiftyTwoWeekHighChangePercent': -0.08854877, 'fiftyTwoWeekLow': 122.25, 'fiftyTwoWeekHigh': 182.95, 'symbol': 'NTPC.NS'}\n"
     ]
    }
   ],
   "source": [
    "live_stock('NTPC.NS')"
   ]
  },
  {
   "cell_type": "code",
   "execution_count": null,
   "id": "b4c6b6b9",
   "metadata": {},
   "outputs": [],
   "source": []
  }
 ],
 "metadata": {
  "kernelspec": {
   "display_name": "Python 3 (ipykernel)",
   "language": "python",
   "name": "python3"
  },
  "language_info": {
   "codemirror_mode": {
    "name": "ipython",
    "version": 3
   },
   "file_extension": ".py",
   "mimetype": "text/x-python",
   "name": "python",
   "nbconvert_exporter": "python",
   "pygments_lexer": "ipython3",
   "version": "3.9.7"
  },
  "vscode": {
   "interpreter": {
    "hash": "8743faa4f4858d5a40fd41a5149682422031aff00136a0e91fa686edfda7ddc6"
   }
  }
 },
 "nbformat": 4,
 "nbformat_minor": 5
}
