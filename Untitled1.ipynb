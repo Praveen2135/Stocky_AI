{
 "cells": [
  {
   "cell_type": "code",
   "execution_count": 4,
   "id": "50004c0c",
   "metadata": {},
   "outputs": [],
   "source": [
    "import St"
   ]
  },
  {
   "cell_type": "code",
   "execution_count": 5,
   "id": "57ac292e",
   "metadata": {},
   "outputs": [],
   "source": [
    "db = stocky.StockyDataBase()"
   ]
  },
  {
   "cell_type": "code",
   "execution_count": 6,
   "id": "716da42e",
   "metadata": {},
   "outputs": [
    {
     "data": {
      "text/plain": [
       "['daaa', 'stat', 'tata']"
      ]
     },
     "execution_count": 6,
     "metadata": {},
     "output_type": "execute_result"
    }
   ],
   "source": [
    "db.get_all_ticker()"
   ]
  },
  {
   "cell_type": "code",
   "execution_count": null,
   "id": "7137df7d",
   "metadata": {},
   "outputs": [],
   "source": [
    "\n"
   ]
  }
 ],
 "metadata": {
  "kernelspec": {
   "display_name": "Python 3 (ipykernel)",
   "language": "python",
   "name": "python3"
  },
  "language_info": {
   "codemirror_mode": {
    "name": "ipython",
    "version": 3
   },
   "file_extension": ".py",
   "mimetype": "text/x-python",
   "name": "python",
   "nbconvert_exporter": "python",
   "pygments_lexer": "ipython3",
   "version": "3.9.7"
  }
 },
 "nbformat": 4,
 "nbformat_minor": 5
}
